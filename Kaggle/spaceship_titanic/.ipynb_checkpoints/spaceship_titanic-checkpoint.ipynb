{
 "cells": [
  {
   "cell_type": "code",
   "execution_count": 56,
   "id": "b2330dcf-8f85-48ec-8eae-21eca3e11c67",
   "metadata": {},
   "outputs": [],
   "source": [
    "import pandas as pd\n",
    "import numpy as np\n",
    "import matplotlib as plt\n",
    "import pandas_profiling"
   ]
  },
  {
   "cell_type": "code",
   "execution_count": 57,
   "id": "2fe19e4e-278b-4b2a-8ebc-e7b69d467560",
   "metadata": {},
   "outputs": [],
   "source": [
    "df = pd.read_csv('./raw_data/train.csv')\n",
    "test_df = pd.read_csv('./raw_data/test.csv')\n",
    "combined = [df, test_df]"
   ]
  },
  {
   "cell_type": "code",
   "execution_count": 58,
   "id": "f644c731-110a-4389-8835-4b18de2f7503",
   "metadata": {},
   "outputs": [
    {
     "data": {
      "text/plain": [
       "(8693, 14)"
      ]
     },
     "execution_count": 58,
     "metadata": {},
     "output_type": "execute_result"
    }
   ],
   "source": [
    "df.shape"
   ]
  },
  {
   "cell_type": "code",
   "execution_count": 59,
   "id": "bbc71e20-03d2-40e1-b50a-4f86d2d4f5e5",
   "metadata": {},
   "outputs": [
    {
     "data": {
      "text/plain": [
       "(4277, 13)"
      ]
     },
     "execution_count": 59,
     "metadata": {},
     "output_type": "execute_result"
    }
   ],
   "source": [
    "test_df.shape"
   ]
  },
  {
   "cell_type": "code",
   "execution_count": 60,
   "id": "670d4765-e25d-4a96-b02f-0d265ee57f7c",
   "metadata": {},
   "outputs": [
    {
     "name": "stdout",
     "output_type": "stream",
     "text": [
      "<class 'pandas.core.frame.DataFrame'>\n",
      "RangeIndex: 8693 entries, 0 to 8692\n",
      "Data columns (total 14 columns):\n",
      " #   Column        Non-Null Count  Dtype  \n",
      "---  ------        --------------  -----  \n",
      " 0   PassengerId   8693 non-null   object \n",
      " 1   HomePlanet    8492 non-null   object \n",
      " 2   CryoSleep     8476 non-null   object \n",
      " 3   Cabin         8494 non-null   object \n",
      " 4   Destination   8511 non-null   object \n",
      " 5   Age           8514 non-null   float64\n",
      " 6   VIP           8490 non-null   object \n",
      " 7   RoomService   8512 non-null   float64\n",
      " 8   FoodCourt     8510 non-null   float64\n",
      " 9   ShoppingMall  8485 non-null   float64\n",
      " 10  Spa           8510 non-null   float64\n",
      " 11  VRDeck        8505 non-null   float64\n",
      " 12  Name          8493 non-null   object \n",
      " 13  Transported   8693 non-null   bool   \n",
      "dtypes: bool(1), float64(6), object(7)\n",
      "memory usage: 891.5+ KB\n"
     ]
    }
   ],
   "source": [
    "df.info()"
   ]
  },
  {
   "cell_type": "markdown",
   "id": "fbb93eda-2a65-47c0-bfbe-22df761b8d8a",
   "metadata": {},
   "source": [
    "#### -PassengerId - A unique Id for each passenger. Each Id takes the form gggg_pp where gggg indicates a group the passenger is travelling with and pp is their number within the group. People in a group are often family members, but not always.\n",
    "#### -HomePlanet - The planet the passenger departed from, typically their planet of permanent residence.\n",
    "#### -CryoSleep - Indicates whether the passenger elected to be put into suspended animation for the duration of the voyage. Passengers in cryosleep are confined to their cabins.\n",
    "#### -Cabin - The cabin number where the passenger is staying. Takes the form deck/num/side, where side can be either P for Port or S for Starboard.\n",
    "#### -Destination - The planet the passenger will be debarking to.\n",
    "#### -Age - The age of the passenger.\n",
    "#### -VIP - Whether the passenger has paid for special VIP service during the voyage.\n",
    "#### -RoomService, FoodCourt, ShoppingMall, Spa, VRDeck - Amount the passenger has billed at each of the Spaceship Titanic's many luxury amenities.\n",
    "#### -Name - The first and last names of the passenger.\n",
    "#### -Transported - Whether the passenger was transported to another dimension. This is the target, the column you are trying to predict. ###"
   ]
  },
  {
   "cell_type": "code",
   "execution_count": 61,
   "id": "60493104-8e9a-432b-8e53-ffccacdceb75",
   "metadata": {},
   "outputs": [],
   "source": [
    "df['private_amenities_combined'] = df.RoomService + df.Spa + df.VRDeck\n",
    "# Amenities where person spent more money on activities done while most likely alone or out of the view of the public\n",
    "# and not out and about seem to have a higher correlation with those transported than those who spent more money doing stuff out in the open\n",
    "# multiplying these features together does not create a stronger correlation with the transported feature, but adding them does."
   ]
  },
  {
   "cell_type": "code",
   "execution_count": 76,
   "id": "f55a9f59-ea7e-4053-afcc-2dce8cc44882",
   "metadata": {},
   "outputs": [
    {
     "data": {
      "text/html": [
       "<div>\n",
       "<style scoped>\n",
       "    .dataframe tbody tr th:only-of-type {\n",
       "        vertical-align: middle;\n",
       "    }\n",
       "\n",
       "    .dataframe tbody tr th {\n",
       "        vertical-align: top;\n",
       "    }\n",
       "\n",
       "    .dataframe thead th {\n",
       "        text-align: right;\n",
       "    }\n",
       "</style>\n",
       "<table border=\"1\" class=\"dataframe\">\n",
       "  <thead>\n",
       "    <tr style=\"text-align: right;\">\n",
       "      <th></th>\n",
       "      <th>Age</th>\n",
       "      <th>RoomService</th>\n",
       "      <th>FoodCourt</th>\n",
       "      <th>ShoppingMall</th>\n",
       "      <th>Spa</th>\n",
       "      <th>VRDeck</th>\n",
       "      <th>Transported</th>\n",
       "      <th>private_amenities_combined</th>\n",
       "    </tr>\n",
       "  </thead>\n",
       "  <tbody>\n",
       "    <tr>\n",
       "      <th>Age</th>\n",
       "      <td>1.000000</td>\n",
       "      <td>0.068723</td>\n",
       "      <td>0.130421</td>\n",
       "      <td>0.033133</td>\n",
       "      <td>0.123970</td>\n",
       "      <td>0.101007</td>\n",
       "      <td>-0.075026</td>\n",
       "      <td>0.163301</td>\n",
       "    </tr>\n",
       "    <tr>\n",
       "      <th>RoomService</th>\n",
       "      <td>0.068723</td>\n",
       "      <td>1.000000</td>\n",
       "      <td>-0.015889</td>\n",
       "      <td>0.054480</td>\n",
       "      <td>0.010080</td>\n",
       "      <td>-0.019581</td>\n",
       "      <td>-0.244611</td>\n",
       "      <td>0.362251</td>\n",
       "    </tr>\n",
       "    <tr>\n",
       "      <th>FoodCourt</th>\n",
       "      <td>0.130421</td>\n",
       "      <td>-0.015889</td>\n",
       "      <td>1.000000</td>\n",
       "      <td>-0.014228</td>\n",
       "      <td>0.221891</td>\n",
       "      <td>0.227995</td>\n",
       "      <td>0.046566</td>\n",
       "      <td>0.270936</td>\n",
       "    </tr>\n",
       "    <tr>\n",
       "      <th>ShoppingMall</th>\n",
       "      <td>0.033133</td>\n",
       "      <td>0.054480</td>\n",
       "      <td>-0.014228</td>\n",
       "      <td>1.000000</td>\n",
       "      <td>0.013879</td>\n",
       "      <td>-0.007322</td>\n",
       "      <td>0.010141</td>\n",
       "      <td>0.026897</td>\n",
       "    </tr>\n",
       "    <tr>\n",
       "      <th>Spa</th>\n",
       "      <td>0.123970</td>\n",
       "      <td>0.010080</td>\n",
       "      <td>0.221891</td>\n",
       "      <td>0.013879</td>\n",
       "      <td>1.000000</td>\n",
       "      <td>0.153821</td>\n",
       "      <td>-0.221131</td>\n",
       "      <td>0.716882</td>\n",
       "    </tr>\n",
       "    <tr>\n",
       "      <th>VRDeck</th>\n",
       "      <td>0.101007</td>\n",
       "      <td>-0.019581</td>\n",
       "      <td>0.227995</td>\n",
       "      <td>-0.007322</td>\n",
       "      <td>0.153821</td>\n",
       "      <td>1.000000</td>\n",
       "      <td>-0.207075</td>\n",
       "      <td>0.688745</td>\n",
       "    </tr>\n",
       "    <tr>\n",
       "      <th>Transported</th>\n",
       "      <td>-0.075026</td>\n",
       "      <td>-0.244611</td>\n",
       "      <td>0.046566</td>\n",
       "      <td>0.010141</td>\n",
       "      <td>-0.221131</td>\n",
       "      <td>-0.207075</td>\n",
       "      <td>1.000000</td>\n",
       "      <td>-0.356140</td>\n",
       "    </tr>\n",
       "    <tr>\n",
       "      <th>private_amenities_combined</th>\n",
       "      <td>0.163301</td>\n",
       "      <td>0.362251</td>\n",
       "      <td>0.270936</td>\n",
       "      <td>0.026897</td>\n",
       "      <td>0.716882</td>\n",
       "      <td>0.688745</td>\n",
       "      <td>-0.356140</td>\n",
       "      <td>1.000000</td>\n",
       "    </tr>\n",
       "  </tbody>\n",
       "</table>\n",
       "</div>"
      ],
      "text/plain": [
       "                                 Age  RoomService  FoodCourt  ShoppingMall  \\\n",
       "Age                         1.000000     0.068723   0.130421      0.033133   \n",
       "RoomService                 0.068723     1.000000  -0.015889      0.054480   \n",
       "FoodCourt                   0.130421    -0.015889   1.000000     -0.014228   \n",
       "ShoppingMall                0.033133     0.054480  -0.014228      1.000000   \n",
       "Spa                         0.123970     0.010080   0.221891      0.013879   \n",
       "VRDeck                      0.101007    -0.019581   0.227995     -0.007322   \n",
       "Transported                -0.075026    -0.244611   0.046566      0.010141   \n",
       "private_amenities_combined  0.163301     0.362251   0.270936      0.026897   \n",
       "\n",
       "                                 Spa    VRDeck  Transported  \\\n",
       "Age                         0.123970  0.101007    -0.075026   \n",
       "RoomService                 0.010080 -0.019581    -0.244611   \n",
       "FoodCourt                   0.221891  0.227995     0.046566   \n",
       "ShoppingMall                0.013879 -0.007322     0.010141   \n",
       "Spa                         1.000000  0.153821    -0.221131   \n",
       "VRDeck                      0.153821  1.000000    -0.207075   \n",
       "Transported                -0.221131 -0.207075     1.000000   \n",
       "private_amenities_combined  0.716882  0.688745    -0.356140   \n",
       "\n",
       "                            private_amenities_combined  \n",
       "Age                                           0.163301  \n",
       "RoomService                                   0.362251  \n",
       "FoodCourt                                     0.270936  \n",
       "ShoppingMall                                  0.026897  \n",
       "Spa                                           0.716882  \n",
       "VRDeck                                        0.688745  \n",
       "Transported                                  -0.356140  \n",
       "private_amenities_combined                    1.000000  "
      ]
     },
     "execution_count": 76,
     "metadata": {},
     "output_type": "execute_result"
    }
   ],
   "source": [
    "df.corr(method='pearson')"
   ]
  },
  {
   "cell_type": "code",
   "execution_count": 63,
   "id": "7fd57efd-c6e7-407f-8d6c-75efdb78d65e",
   "metadata": {},
   "outputs": [],
   "source": [
    "non_null_cryo = 8476\n",
    "ratio_true =  (df.CryoSleep[(df.CryoSleep == True)].count() / non_null_cryo) * 100\n",
    "ratio_false =  (df.CryoSleep[(df.CryoSleep == False)].count() / non_null_cryo) * 100"
   ]
  },
  {
   "cell_type": "code",
   "execution_count": 64,
   "id": "84532695-d25b-484a-88ac-80fdd5f63994",
   "metadata": {},
   "outputs": [
    {
     "name": "stdout",
     "output_type": "stream",
     "text": [
      "35.8305804624823\n"
     ]
    }
   ],
   "source": [
    "print(ratio_true)\n"
   ]
  },
  {
   "cell_type": "code",
   "execution_count": 65,
   "id": "93260d9e-57e5-4a65-8225-38cf08f69543",
   "metadata": {},
   "outputs": [
    {
     "name": "stdout",
     "output_type": "stream",
     "text": [
      "64.1694195375177\n"
     ]
    }
   ],
   "source": [
    "print(ratio_false)"
   ]
  },
  {
   "cell_type": "markdown",
   "id": "7a0e51fa-968f-4afb-bb74-ce3262d51722",
   "metadata": {},
   "source": [
    "#### Can maybe conclude that training data had 35.83% of sample size were in CryoSleep & 64.17% were not. Can use this ratio to fill in the missing data points?\n"
   ]
  },
  {
   "cell_type": "markdown",
   "id": "7f3bc772-a4c6-43f8-81ba-2006df7f9b1a",
   "metadata": {},
   "source": [
    "#### Will now assess the test data to see if the proportion is similar"
   ]
  },
  {
   "cell_type": "markdown",
   "id": "d83a737e-23f1-4ed5-a5f4-679c88fc4b21",
   "metadata": {},
   "source": [
    "##### 4277 Total entries, 4184 are not-null."
   ]
  },
  {
   "cell_type": "code",
   "execution_count": 66,
   "id": "dd452e9d-8100-4296-bc8c-b4b7fa8c6a47",
   "metadata": {},
   "outputs": [],
   "source": [
    "test_ratio_true =  (test_df.CryoSleep[(test_df.CryoSleep == True)].count() / 4184) * 100\n",
    "test_ratio_false =  (test_df.CryoSleep[(test_df.CryoSleep == False)].count() / 4184) * 100"
   ]
  },
  {
   "cell_type": "code",
   "execution_count": 67,
   "id": "a6602e16-cd41-4320-bd56-b36040c3a38e",
   "metadata": {},
   "outputs": [
    {
     "name": "stdout",
     "output_type": "stream",
     "text": [
      "36.90248565965583\n"
     ]
    }
   ],
   "source": [
    "print(test_ratio_true)"
   ]
  },
  {
   "cell_type": "code",
   "execution_count": 68,
   "id": "3d2bee43-8551-48c5-9d91-eb5bf27c568f",
   "metadata": {},
   "outputs": [
    {
     "name": "stdout",
     "output_type": "stream",
     "text": [
      "63.09751434034416\n"
     ]
    }
   ],
   "source": [
    "print(test_ratio_false)"
   ]
  },
  {
   "cell_type": "markdown",
   "id": "325a917f-3d43-4933-a736-84c6fcfb33c0",
   "metadata": {},
   "source": [
    "##### Looks like both testing and the training datasets have a proportion of ~ 36% \"True\", and 64% \"False\" values for the not null CryoSleep data. I could use this ratio to fill the remaining n Null datapoints."
   ]
  },
  {
   "cell_type": "markdown",
   "id": "983be936-1746-4cbc-b1e6-c516f1aca034",
   "metadata": {},
   "source": [
    "## May need to investigate age correlation...perhaps bands of age would be more important? Young vs Old or certain age ranges."
   ]
  },
  {
   "cell_type": "code",
   "execution_count": 143,
   "id": "6ff6061f-8a16-47c1-8e24-729f368ad815",
   "metadata": {},
   "outputs": [
    {
     "data": {
      "text/plain": [
       "<AxesSubplot:ylabel='Frequency'>"
      ]
     },
     "execution_count": 143,
     "metadata": {},
     "output_type": "execute_result"
    },
    {
     "data": {
      "image/png": "[encoded data removed]",
      "text/plain": [
       "<Figure size 640x480 with 1 Axes>"
      ]
     },
     "metadata": {},
     "output_type": "display_data"
    }
   ],
   "source": [
    "dff = (df[df.Transported == True])\n",
    "dff\n",
    "df.Age.plot(kind='hist')"
   ]
  },
  {
   "cell_type": "code",
   "execution_count": 144,
   "id": "a5dad345-6725-4d9c-8bbf-209b68018261",
   "metadata": {},
   "outputs": [],
   "source": [
    "# Age Bands = >=0 -- < 20, >=20 -- <= 40, >40 -- <=60, >60 are the age ranges that I think I want to create based \n",
    "# on the histogram of transported people. These will then be categorical, 0-1-2-3 group values.\n",
    "# dff.Age[(dff.Age > 0) & (dff.Age < 20)].count()\n",
    "# dff.Age[(dff.Age >= 20) & (dff.Age < 40)].count()\n",
    "# dff.Age[dff.Age >= 60].count()\n",
    "# dff.Age[(dff.Age >= 40) & (dff.Age < 60)].count()"
   ]
  },
  {
   "cell_type": "code",
   "execution_count": 138,
   "id": "02eb3251-6fbf-4309-8f4a-bf5cebc45339",
   "metadata": {},
   "outputs": [],
   "source": [
    "#mean age is 28, using that to fill NA, applicable to test and training data.\n",
    "df.Age = df.Age.fillna(28)\n",
    "test_df.Age = test_df.Age.fillna(28)"
   ]
  },
  {
   "cell_type": "code",
   "execution_count": 148,
   "id": "ab02e3cc-b1c2-4c1d-afe1-bc5f0c49348a",
   "metadata": {},
   "outputs": [
    {
     "data": {
      "text/plain": [
       "False    8511\n",
       "True      182\n",
       "Name: Destination, dtype: int64"
      ]
     },
     "execution_count": 148,
     "metadata": {},
     "output_type": "execute_result"
    }
   ],
   "source": [
    "df.Destination.isnull().value_counts()"
   ]
  },
  {
   "cell_type": "markdown",
   "id": "d041ee9b-c56a-4b9d-b221-7064b1270a38",
   "metadata": {},
   "source": [
    "## I have about 182 missing values for destination. Right now destination needs to be converted to a categorical variable and I need to address the missing data"
   ]
  },
  {
   "cell_type": "code",
   "execution_count": 158,
   "id": "787c93e4-1dfa-4be8-9def-826d6984a0c5",
   "metadata": {},
   "outputs": [
    {
     "data": {
      "text/plain": [
       "<AxesSubplot:>"
      ]
     },
     "execution_count": 158,
     "metadata": {},
     "output_type": "execute_result"
    },
    {
     "data": {
      "image/png": "[encoded data removed]",
      "text/plain": [
       "<Figure size 640x480 with 1 Axes>"
      ]
     },
     "metadata": {},
     "output_type": "display_data"
    }
   ],
   "source": [
    "df.Destination.value_counts().plot(kind='bar')"
   ]
  },
  {
   "cell_type": "code",
   "execution_count": 159,
   "id": "d74d6740-5f7d-43f1-a3c8-e53b33f1ba4c",
   "metadata": {},
   "outputs": [
    {
     "data": {
      "text/plain": [
       "<AxesSubplot:>"
      ]
     },
     "execution_count": 159,
     "metadata": {},
     "output_type": "execute_result"
    },
    {
     "data": {
      "image/png": "[encoded data removed]",
      "text/plain": [
       "<Figure size 640x480 with 1 Axes>"
      ]
     },
     "metadata": {},
     "output_type": "display_data"
    }
   ],
   "source": [
    "dff.Destination.value_counts().plot(kind='bar')"
   ]
  },
  {
   "cell_type": "code",
   "execution_count": 167,
   "id": "9baddccf-6925-4919-b354-30e35cd7c410",
   "metadata": {},
   "outputs": [
    {
     "name": "stdout",
     "output_type": "stream",
     "text": [
      "<class 'pandas.core.frame.DataFrame'>\n",
      "RangeIndex: 8693 entries, 0 to 8692\n",
      "Data columns (total 15 columns):\n",
      " #   Column                      Non-Null Count  Dtype  \n",
      "---  ------                      --------------  -----  \n",
      " 0   PassengerId                 8693 non-null   object \n",
      " 1   HomePlanet                  8492 non-null   object \n",
      " 2   CryoSleep                   8476 non-null   object \n",
      " 3   Cabin                       8494 non-null   object \n",
      " 4   Destination                 8511 non-null   object \n",
      " 5   Age                         8693 non-null   float64\n",
      " 6   VIP                         8490 non-null   object \n",
      " 7   RoomService                 8512 non-null   float64\n",
      " 8   FoodCourt                   8510 non-null   float64\n",
      " 9   ShoppingMall                8485 non-null   float64\n",
      " 10  Spa                         8510 non-null   float64\n",
      " 11  VRDeck                      8505 non-null   float64\n",
      " 12  Name                        8493 non-null   object \n",
      " 13  Transported                 8693 non-null   bool   \n",
      " 14  private_amenities_combined  8149 non-null   float64\n",
      "dtypes: bool(1), float64(7), object(7)\n",
      "memory usage: 959.4+ KB\n"
     ]
    }
   ],
   "source": [
    "df.info()"
   ]
  },
  {
   "cell_type": "code",
   "execution_count": null,
   "id": "c0e9d14f-c3c9-47a2-9658-7601a4c842c8",
   "metadata": {},
   "outputs": [],
   "source": []
  }
 ],
 "metadata": {
  "kernelspec": {
   "display_name": "Python 3 (ipykernel)",
   "language": "python",
   "name": "python3"
  },
  "language_info": {
   "codemirror_mode": {
    "name": "ipython",
    "version": 3
   },
   "file_extension": ".py",
   "mimetype": "text/x-python",
   "name": "python",
   "nbconvert_exporter": "python",
   "pygments_lexer": "ipython3",
   "version": "3.9.13"
  }
 },
 "nbformat": 4,
 "nbformat_minor": 5
}
