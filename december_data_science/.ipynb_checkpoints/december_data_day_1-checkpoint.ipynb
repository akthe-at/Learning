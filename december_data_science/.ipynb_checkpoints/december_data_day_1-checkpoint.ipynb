{
 "cells": [
  {
   "cell_type": "code",
   "execution_count": null,
   "id": "bf9cb99f",
   "metadata": {},
   "outputs": [],
   "source": [
    "import pandas as pd\n",
    "import numpy as np\n",
    "%matplotlib inline\n",
    "import matplotlib\n",
    "import matplotlib.pyplot as plt\n",
    "# df = pd.read_csv('ViewingActivity.csv')"
   ]
  },
  {
   "cell_type": "markdown",
   "id": "0382697b",
   "metadata": {},
   "source": [
    "### Explore the df shape/content"
   ]
  },
  {
   "cell_type": "code",
   "execution_count": null,
   "id": "b8b60599",
   "metadata": {},
   "outputs": [],
   "source": [
    "df.shape"
   ]
  },
  {
   "cell_type": "code",
   "execution_count": null,
   "id": "85c935b1",
   "metadata": {},
   "outputs": [],
   "source": [
    "df.head()"
   ]
  },
  {
   "cell_type": "code",
   "execution_count": null,
   "id": "1ad867c6",
   "metadata": {},
   "outputs": [],
   "source": [
    "df.sample(n=10)"
   ]
  },
  {
   "cell_type": "code",
   "execution_count": null,
   "id": "482c3c0f",
   "metadata": {},
   "outputs": [],
   "source": [
    "df[\"Profile Name\"].unique()"
   ]
  },
  {
   "cell_type": "code",
   "execution_count": null,
   "id": "f95be703",
   "metadata": {},
   "outputs": [],
   "source": [
    "df[\"Device Type\"].unique()"
   ]
  },
  {
   "cell_type": "markdown",
   "id": "92a5885d",
   "metadata": {},
   "source": [
    "### Possible Questions for Data\n",
    "##### Which Profile watched the most (time)?\n",
    "##### Which Profile has the most watching activities/interactions?\n",
    "##### What is the average watching time (per Profile)?\n",
    "##### What devices are used by which Profile? And which device is used the most?\n",
    "##### What was the most popular/watched title?\n",
    "##### Was there any title watched by all profiles?\n",
    "##### Can we recommend a title for one profile based on the common watching history of other profiles?"
   ]
  },
  {
   "cell_type": "markdown",
   "id": "4714739c",
   "metadata": {},
   "source": [
    "## Transform the data"
   ]
  },
  {
   "cell_type": "code",
   "execution_count": null,
   "id": "4b43d97f",
   "metadata": {},
   "outputs": [],
   "source": [
    "df.dtypes"
   ]
  },
  {
   "cell_type": "code",
   "execution_count": null,
   "id": "9f38bcb7",
   "metadata": {},
   "outputs": [],
   "source": [
    "df['Start Time'] = pd.to_datetime(df['Start Time'], utc=True)\n",
    "df['Duration'] = pd.to_timedelta(df['Duration'])\n",
    "df.dtypes"
   ]
  },
  {
   "cell_type": "code",
   "execution_count": null,
   "id": "2690fd71",
   "metadata": {},
   "outputs": [],
   "source": [
    "df.sample(n=10)"
   ]
  },
  {
   "cell_type": "markdown",
   "id": "ae66656b",
   "metadata": {},
   "source": [
    "## Answer Questions & Visualize the data"
   ]
  },
  {
   "cell_type": "markdown",
   "id": "b8463a9f",
   "metadata": {},
   "source": [
    "### Which Profile has the most watching activities/interactions?"
   ]
  },
  {
   "cell_type": "code",
   "execution_count": null,
   "id": "40e49298",
   "metadata": {},
   "outputs": [],
   "source": [
    "df['Profile Name'].value_counts()"
   ]
  },
  {
   "cell_type": "markdown",
   "id": "65be537d",
   "metadata": {},
   "source": [
    "##### It appears that X profile has the most view records."
   ]
  },
  {
   "cell_type": "code",
   "execution_count": null,
   "id": "d4c4107d",
   "metadata": {},
   "outputs": [],
   "source": [
    "df['Profile Name'].value_counts().plot(kind='bar')\n",
    "plt.show()"
   ]
  },
  {
   "cell_type": "markdown",
   "id": "a4ff3e2a",
   "metadata": {},
   "source": [
    "##### Which profile watched the most (time)?"
   ]
  },
  {
   "cell_type": "code",
   "execution_count": null,
   "id": "3af156a5",
   "metadata": {},
   "outputs": [],
   "source": [
    "df.Duration.sum()"
   ]
  },
  {
   "cell_type": "code",
   "execution_count": null,
   "id": "fc7afc19",
   "metadata": {},
   "outputs": [],
   "source": [
    "df.sort_values('Start Time')"
   ]
  },
  {
   "cell_type": "code",
   "execution_count": null,
   "id": "a85e5d36",
   "metadata": {},
   "outputs": [],
   "source": [
    "for profile in df['Profile Name'].unique():\n",
    "    print(df.loc[df['Profile Name'] == f'{profile}', 'Duration'].sum())"
   ]
  },
  {
   "cell_type": "code",
   "execution_count": null,
   "id": "48058706",
   "metadata": {},
   "outputs": [],
   "source": [
    "viewTime = {}\n",
    "for profile in df['Profile Name'].unique():\n",
    "    viewTime.update({f'{profile}': df.loc[df['Profile Name'] == f'{profile}', 'Duration'].astype('timedelta64[s]').sum()})\n",
    "\n",
    "viewTime"
   ]
  },
  {
   "cell_type": "code",
   "execution_count": null,
   "id": "0c705a29",
   "metadata": {},
   "outputs": [],
   "source": [
    "plt.bar(*zip(*viewTime.items()))\n",
    "plt.show()"
   ]
  },
  {
   "cell_type": "markdown",
   "id": "19294445",
   "metadata": {},
   "source": [
    "#### What is the average watching time (per Profile)?"
   ]
  },
  {
   "cell_type": "code",
   "execution_count": null,
   "id": "f5355d3c",
   "metadata": {},
   "outputs": [],
   "source": [
    "for profile in df['Profile Name'].unique():\n",
    "    print(df.loc[df['Profile Name']==f'{profile}','Duration'].sum()/(df.loc[df['Profile Name']==f'{profile}'].value_counts())"
   ]
  },
  {
   "cell_type": "code",
   "execution_count": null,
   "id": "e5952d4e",
   "metadata": {},
   "outputs": [],
   "source": [
    "df['Supplemental Video Type'].value_counts()"
   ]
  },
  {
   "cell_type": "code",
   "execution_count": null,
   "id": "fbbc0e98",
   "metadata": {},
   "outputs": [],
   "source": [
    "df.loc[df['Supplemental Video Type'].isnull()]"
   ]
  },
  {
   "cell_type": "code",
   "execution_count": null,
   "id": "f65780c9",
   "metadata": {},
   "outputs": [],
   "source": [
    "df['Profile Name'].value_counts()"
   ]
  },
  {
   "cell_type": "code",
   "execution_count": null,
   "id": "2ce370a9",
   "metadata": {},
   "outputs": [],
   "source": [
    "for profile in df['Profile Name'].unique():\n",
    "    print(df.loc[df['Profile Name']==f'{profile}','Duration'].sum()/(df.loc[df['Profile Name']==f'{profile}'].value_counts())"
   ]
  },
  {
   "cell_type": "markdown",
   "id": "20e18a85",
   "metadata": {},
   "source": [
    "### What devices are used by which Profile? Which device is used the most?"
   ]
  },
  {
   "cell_type": "code",
   "execution_count": null,
   "id": "2c919f4a",
   "metadata": {},
   "outputs": [],
   "source": [
    "df['Device Type'].value_counts()"
   ]
  },
  {
   "cell_type": "code",
   "execution_count": null,
   "id": "36594238",
   "metadata": {},
   "outputs": [],
   "source": [
    "df['Device Type'].value_counts().plot(kind='bar')\n",
    "plt.show()"
   ]
  },
  {
   "cell_type": "code",
   "execution_count": null,
   "id": "b1d7997c",
   "metadata": {},
   "outputs": [],
   "source": [
    "df=df.loc[df['Profile Name'] == 'Code & Dogs']"
   ]
  },
  {
   "cell_type": "code",
   "execution_count": null,
   "id": "361149de",
   "metadata": {},
   "outputs": [],
   "source": [
    "df['Device Type'].value_counts().plot(kind='bar')\n",
    "plt.show()"
   ]
  },
  {
   "cell_type": "markdown",
   "id": "6c62bd57",
   "metadata": {},
   "source": [
    "### What was the most popular/watched title?"
   ]
  },
  {
   "cell_type": "code",
   "execution_count": null,
   "id": "9d7692a3",
   "metadata": {},
   "outputs": [],
   "source": []
  },
  {
   "cell_type": "markdown",
   "id": "14e208d3",
   "metadata": {},
   "source": [
    "### Was there any common titles watched by all profiles??"
   ]
  },
  {
   "cell_type": "code",
   "execution_count": null,
   "id": "1c2a8e51",
   "metadata": {},
   "outputs": [],
   "source": []
  },
  {
   "cell_type": "markdown",
   "id": "08a2f032",
   "metadata": {},
   "source": [
    "### Can we recommend a title for one Profile based on the common watching history of other Profiles?"
   ]
  },
  {
   "cell_type": "code",
   "execution_count": null,
   "id": "6690ce0b",
   "metadata": {},
   "outputs": [],
   "source": []
  },
  {
   "cell_type": "code",
   "execution_count": null,
   "id": "a0eecef2",
   "metadata": {},
   "outputs": [],
   "source": []
  }
 ],
 "metadata": {
  "kernelspec": {
   "display_name": "Python 3 (ipykernel)",
   "language": "python",
   "name": "python3"
  },
  "language_info": {
   "codemirror_mode": {
    "name": "ipython",
    "version": 3
   },
   "file_extension": ".py",
   "mimetype": "text/x-python",
   "name": "python",
   "nbconvert_exporter": "python",
   "pygments_lexer": "ipython3",
   "version": "3.9.13"
  }
 },
 "nbformat": 4,
 "nbformat_minor": 5
}
