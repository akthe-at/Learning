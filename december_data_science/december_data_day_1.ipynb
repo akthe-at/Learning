{
 "cells": [
  {
   "cell_type": "code",
   "execution_count": 69,
   "id": "bf9cb99f",
   "metadata": {},
   "outputs": [],
   "source": [
    "import pandas as pd\n",
    "import numpy as np\n",
    "%matplotlib inline\n",
    "import matplotlib\n",
    "import matplotlib.pyplot as plt\n",
    "df = pd.read_csv(r'C:\\Users\\kellya\\Documents\\Python Code\\python_for_coaches-main\\python_for_coaches-main\\Learning\\december_data_science\\day_1_files\\CONTENT_INTERACTION\\ViewingActivity.csv')"
   ]
  },
  {
   "cell_type": "markdown",
   "id": "0382697b",
   "metadata": {},
   "source": [
    "### Explore the df shape/content"
   ]
  },
  {
   "cell_type": "code",
   "execution_count": 70,
   "id": "b8b60599",
   "metadata": {},
   "outputs": [
    {
     "data": {
      "text/plain": [
       "(9207, 10)"
      ]
     },
     "execution_count": 70,
     "metadata": {},
     "output_type": "execute_result"
    }
   ],
   "source": [
    "df.shape"
   ]
  },
  {
   "cell_type": "code",
   "execution_count": 71,
   "id": "85c935b1",
   "metadata": {},
   "outputs": [
    {
     "data": {
      "text/html": [
       "<div>\n",
       "<style scoped>\n",
       "    .dataframe tbody tr th:only-of-type {\n",
       "        vertical-align: middle;\n",
       "    }\n",
       "\n",
       "    .dataframe tbody tr th {\n",
       "        vertical-align: top;\n",
       "    }\n",
       "\n",
       "    .dataframe thead th {\n",
       "        text-align: right;\n",
       "    }\n",
       "</style>\n",
       "<table border=\"1\" class=\"dataframe\">\n",
       "  <thead>\n",
       "    <tr style=\"text-align: right;\">\n",
       "      <th></th>\n",
       "      <th>Profile Name</th>\n",
       "      <th>Start Time</th>\n",
       "      <th>Duration</th>\n",
       "      <th>Attributes</th>\n",
       "      <th>Title</th>\n",
       "      <th>Supplemental Video Type</th>\n",
       "      <th>Device Type</th>\n",
       "      <th>Bookmark</th>\n",
       "      <th>Latest Bookmark</th>\n",
       "      <th>Country</th>\n",
       "    </tr>\n",
       "  </thead>\n",
       "  <tbody>\n",
       "    <tr>\n",
       "      <th>0</th>\n",
       "      <td>#whoruntheworld</td>\n",
       "      <td>2022-12-01 03:05:06</td>\n",
       "      <td>00:43:51</td>\n",
       "      <td>NaN</td>\n",
       "      <td>Wednesday: Season 1: Woe Is the Loneliest Numb...</td>\n",
       "      <td>NaN</td>\n",
       "      <td>Netflix Windows App - Cadmium Windows Mobile</td>\n",
       "      <td>00:43:51</td>\n",
       "      <td>00:43:51</td>\n",
       "      <td>US (United States)</td>\n",
       "    </tr>\n",
       "    <tr>\n",
       "      <th>1</th>\n",
       "      <td>#whoruntheworld</td>\n",
       "      <td>2022-12-01 02:06:34</td>\n",
       "      <td>00:56:03</td>\n",
       "      <td>NaN</td>\n",
       "      <td>Wednesday: Season 1: Wednesday's Child Is Full...</td>\n",
       "      <td>NaN</td>\n",
       "      <td>Netflix Windows App - Cadmium Windows Mobile</td>\n",
       "      <td>00:55:19</td>\n",
       "      <td>00:55:19</td>\n",
       "      <td>US (United States)</td>\n",
       "    </tr>\n",
       "    <tr>\n",
       "      <th>2</th>\n",
       "      <td>#whoruntheworld</td>\n",
       "      <td>2022-11-30 18:01:32</td>\n",
       "      <td>00:00:09</td>\n",
       "      <td>Autoplayed: user action: None;</td>\n",
       "      <td>Season 1 Clip: Snack VS. Chef</td>\n",
       "      <td>HOOK</td>\n",
       "      <td>Netflix Windows App - Cadmium Windows Mobile</td>\n",
       "      <td>00:00:09</td>\n",
       "      <td>00:00:09</td>\n",
       "      <td>US (United States)</td>\n",
       "    </tr>\n",
       "    <tr>\n",
       "      <th>3</th>\n",
       "      <td>#whoruntheworld</td>\n",
       "      <td>2022-11-30 17:56:22</td>\n",
       "      <td>00:04:54</td>\n",
       "      <td>NaN</td>\n",
       "      <td>Our Universe: Season 1: Chasing Starlight (Epi...</td>\n",
       "      <td>NaN</td>\n",
       "      <td>Netflix Windows App - Cadmium Windows Mobile</td>\n",
       "      <td>00:04:54</td>\n",
       "      <td>00:04:54</td>\n",
       "      <td>US (United States)</td>\n",
       "    </tr>\n",
       "    <tr>\n",
       "      <th>4</th>\n",
       "      <td>#whoruntheworld</td>\n",
       "      <td>2022-11-30 17:56:00</td>\n",
       "      <td>00:00:04</td>\n",
       "      <td>Autoplayed: user action: None;</td>\n",
       "      <td>Season 1 Clip: Snack VS. Chef</td>\n",
       "      <td>HOOK</td>\n",
       "      <td>Netflix Windows App - Cadmium Windows Mobile</td>\n",
       "      <td>00:00:04</td>\n",
       "      <td>Not latest view</td>\n",
       "      <td>US (United States)</td>\n",
       "    </tr>\n",
       "  </tbody>\n",
       "</table>\n",
       "</div>"
      ],
      "text/plain": [
       "      Profile Name           Start Time  Duration  \\\n",
       "0  #whoruntheworld  2022-12-01 03:05:06  00:43:51   \n",
       "1  #whoruntheworld  2022-12-01 02:06:34  00:56:03   \n",
       "2  #whoruntheworld  2022-11-30 18:01:32  00:00:09   \n",
       "3  #whoruntheworld  2022-11-30 17:56:22  00:04:54   \n",
       "4  #whoruntheworld  2022-11-30 17:56:00  00:00:04   \n",
       "\n",
       "                        Attributes  \\\n",
       "0                              NaN   \n",
       "1                              NaN   \n",
       "2  Autoplayed: user action: None;    \n",
       "3                              NaN   \n",
       "4  Autoplayed: user action: None;    \n",
       "\n",
       "                                               Title Supplemental Video Type  \\\n",
       "0  Wednesday: Season 1: Woe Is the Loneliest Numb...                     NaN   \n",
       "1  Wednesday: Season 1: Wednesday's Child Is Full...                     NaN   \n",
       "2                      Season 1 Clip: Snack VS. Chef                    HOOK   \n",
       "3  Our Universe: Season 1: Chasing Starlight (Epi...                     NaN   \n",
       "4                      Season 1 Clip: Snack VS. Chef                    HOOK   \n",
       "\n",
       "                                    Device Type  Bookmark  Latest Bookmark  \\\n",
       "0  Netflix Windows App - Cadmium Windows Mobile  00:43:51         00:43:51   \n",
       "1  Netflix Windows App - Cadmium Windows Mobile  00:55:19         00:55:19   \n",
       "2  Netflix Windows App - Cadmium Windows Mobile  00:00:09         00:00:09   \n",
       "3  Netflix Windows App - Cadmium Windows Mobile  00:04:54         00:04:54   \n",
       "4  Netflix Windows App - Cadmium Windows Mobile  00:00:04  Not latest view   \n",
       "\n",
       "              Country  \n",
       "0  US (United States)  \n",
       "1  US (United States)  \n",
       "2  US (United States)  \n",
       "3  US (United States)  \n",
       "4  US (United States)  "
      ]
     },
     "execution_count": 71,
     "metadata": {},
     "output_type": "execute_result"
    }
   ],
   "source": [
    "df.head()"
   ]
  },
  {
   "cell_type": "code",
   "execution_count": 72,
   "id": "1ad867c6",
   "metadata": {},
   "outputs": [
    {
     "data": {
      "text/html": [
       "<div>\n",
       "<style scoped>\n",
       "    .dataframe tbody tr th:only-of-type {\n",
       "        vertical-align: middle;\n",
       "    }\n",
       "\n",
       "    .dataframe tbody tr th {\n",
       "        vertical-align: top;\n",
       "    }\n",
       "\n",
       "    .dataframe thead th {\n",
       "        text-align: right;\n",
       "    }\n",
       "</style>\n",
       "<table border=\"1\" class=\"dataframe\">\n",
       "  <thead>\n",
       "    <tr style=\"text-align: right;\">\n",
       "      <th></th>\n",
       "      <th>Profile Name</th>\n",
       "      <th>Start Time</th>\n",
       "      <th>Duration</th>\n",
       "      <th>Attributes</th>\n",
       "      <th>Title</th>\n",
       "      <th>Supplemental Video Type</th>\n",
       "      <th>Device Type</th>\n",
       "      <th>Bookmark</th>\n",
       "      <th>Latest Bookmark</th>\n",
       "      <th>Country</th>\n",
       "    </tr>\n",
       "  </thead>\n",
       "  <tbody>\n",
       "    <tr>\n",
       "      <th>2400</th>\n",
       "      <td>#whoruntheworld</td>\n",
       "      <td>2021-09-20 18:38:39</td>\n",
       "      <td>00:43:04</td>\n",
       "      <td>NaN</td>\n",
       "      <td>Heartland: Season 12: Dare to Dream (Episode 1)</td>\n",
       "      <td>NaN</td>\n",
       "      <td>Netflix Windows App - Cadmium Windows Mobile</td>\n",
       "      <td>00:43:45</td>\n",
       "      <td>00:43:45</td>\n",
       "      <td>US (United States)</td>\n",
       "    </tr>\n",
       "    <tr>\n",
       "      <th>6458</th>\n",
       "      <td>Adam &amp; Nicole</td>\n",
       "      <td>2022-02-23 23:31:40</td>\n",
       "      <td>00:19:18</td>\n",
       "      <td>NaN</td>\n",
       "      <td>Spirit Riding Free: Season 2: Lucky and the Ch...</td>\n",
       "      <td>NaN</td>\n",
       "      <td>Google Chromecast V3 Streaming Stick</td>\n",
       "      <td>00:19:18</td>\n",
       "      <td>Not latest view</td>\n",
       "      <td>US (United States)</td>\n",
       "    </tr>\n",
       "    <tr>\n",
       "      <th>632</th>\n",
       "      <td>#whoruntheworld</td>\n",
       "      <td>2022-06-25 20:53:00</td>\n",
       "      <td>00:42:51</td>\n",
       "      <td>NaN</td>\n",
       "      <td>Shameless (U.S.): Season 1: But at Last Came a...</td>\n",
       "      <td>NaN</td>\n",
       "      <td>DefaultWidevineAndroidPhone</td>\n",
       "      <td>00:43:05</td>\n",
       "      <td>Not latest view</td>\n",
       "      <td>US (United States)</td>\n",
       "    </tr>\n",
       "    <tr>\n",
       "      <th>4776</th>\n",
       "      <td>#whoruntheworld</td>\n",
       "      <td>2020-06-04 01:20:32</td>\n",
       "      <td>00:41:39</td>\n",
       "      <td>NaN</td>\n",
       "      <td>Charmed: Season 2: The Rules of Engagement (Ep...</td>\n",
       "      <td>NaN</td>\n",
       "      <td>Android DefaultWidevineL3Phone Android Phone</td>\n",
       "      <td>00:42:04</td>\n",
       "      <td>00:42:04</td>\n",
       "      <td>US (United States)</td>\n",
       "    </tr>\n",
       "    <tr>\n",
       "      <th>3833</th>\n",
       "      <td>#whoruntheworld</td>\n",
       "      <td>2021-01-23 17:05:57</td>\n",
       "      <td>00:02:00</td>\n",
       "      <td>NaN</td>\n",
       "      <td>Fate: The Winx Saga: Season 1: No Strangers He...</td>\n",
       "      <td>NaN</td>\n",
       "      <td>DefaultWidevineAndroidPhone</td>\n",
       "      <td>00:14:46</td>\n",
       "      <td>Not latest view</td>\n",
       "      <td>US (United States)</td>\n",
       "    </tr>\n",
       "    <tr>\n",
       "      <th>4630</th>\n",
       "      <td>#whoruntheworld</td>\n",
       "      <td>2020-07-07 02:26:26</td>\n",
       "      <td>00:42:22</td>\n",
       "      <td>NaN</td>\n",
       "      <td>Wentworth: Season 1: The Girl Who Waited (Epis...</td>\n",
       "      <td>NaN</td>\n",
       "      <td>Android DefaultWidevineL3Phone Android Phone</td>\n",
       "      <td>00:44:03</td>\n",
       "      <td>00:44:03</td>\n",
       "      <td>US (United States)</td>\n",
       "    </tr>\n",
       "    <tr>\n",
       "      <th>7321</th>\n",
       "      <td>Adam &amp; Nicole</td>\n",
       "      <td>2020-09-27 00:02:16</td>\n",
       "      <td>00:28:41</td>\n",
       "      <td>NaN</td>\n",
       "      <td>Chef's Table: BBQ: Volume 1: Rodney Scott (Epi...</td>\n",
       "      <td>NaN</td>\n",
       "      <td>Google Chromecast V3 Streaming Stick</td>\n",
       "      <td>00:39:08</td>\n",
       "      <td>00:39:08</td>\n",
       "      <td>US (United States)</td>\n",
       "    </tr>\n",
       "    <tr>\n",
       "      <th>5261</th>\n",
       "      <td>#whoruntheworld</td>\n",
       "      <td>2020-01-30 00:19:55</td>\n",
       "      <td>00:04:07</td>\n",
       "      <td>NaN</td>\n",
       "      <td>Next in Fashion: Season 1: Red Carpet (Episode 1)</td>\n",
       "      <td>NaN</td>\n",
       "      <td>Android DefaultWidevineL3Phone Android Phone</td>\n",
       "      <td>00:04:07</td>\n",
       "      <td>Not latest view</td>\n",
       "      <td>US (United States)</td>\n",
       "    </tr>\n",
       "    <tr>\n",
       "      <th>726</th>\n",
       "      <td>#whoruntheworld</td>\n",
       "      <td>2022-06-02 00:11:15</td>\n",
       "      <td>00:11:50</td>\n",
       "      <td>NaN</td>\n",
       "      <td>Step Up 2: The Streets</td>\n",
       "      <td>NaN</td>\n",
       "      <td>DefaultWidevineAndroidPhone</td>\n",
       "      <td>00:11:50</td>\n",
       "      <td>00:11:50</td>\n",
       "      <td>FR (France)</td>\n",
       "    </tr>\n",
       "    <tr>\n",
       "      <th>50</th>\n",
       "      <td>#whoruntheworld</td>\n",
       "      <td>2022-11-22 00:35:43</td>\n",
       "      <td>00:00:16</td>\n",
       "      <td>NaN</td>\n",
       "      <td>Trailer: Christmas with You</td>\n",
       "      <td>TRAILER</td>\n",
       "      <td>Android DefaultWidevineL3Phone Android Phone</td>\n",
       "      <td>00:00:16</td>\n",
       "      <td>Not latest view</td>\n",
       "      <td>US (United States)</td>\n",
       "    </tr>\n",
       "  </tbody>\n",
       "</table>\n",
       "</div>"
      ],
      "text/plain": [
       "         Profile Name           Start Time  Duration Attributes  \\\n",
       "2400  #whoruntheworld  2021-09-20 18:38:39  00:43:04        NaN   \n",
       "6458    Adam & Nicole  2022-02-23 23:31:40  00:19:18        NaN   \n",
       "632   #whoruntheworld  2022-06-25 20:53:00  00:42:51        NaN   \n",
       "4776  #whoruntheworld  2020-06-04 01:20:32  00:41:39        NaN   \n",
       "3833  #whoruntheworld  2021-01-23 17:05:57  00:02:00        NaN   \n",
       "4630  #whoruntheworld  2020-07-07 02:26:26  00:42:22        NaN   \n",
       "7321    Adam & Nicole  2020-09-27 00:02:16  00:28:41        NaN   \n",
       "5261  #whoruntheworld  2020-01-30 00:19:55  00:04:07        NaN   \n",
       "726   #whoruntheworld  2022-06-02 00:11:15  00:11:50        NaN   \n",
       "50    #whoruntheworld  2022-11-22 00:35:43  00:00:16        NaN   \n",
       "\n",
       "                                                  Title  \\\n",
       "2400    Heartland: Season 12: Dare to Dream (Episode 1)   \n",
       "6458  Spirit Riding Free: Season 2: Lucky and the Ch...   \n",
       "632   Shameless (U.S.): Season 1: But at Last Came a...   \n",
       "4776  Charmed: Season 2: The Rules of Engagement (Ep...   \n",
       "3833  Fate: The Winx Saga: Season 1: No Strangers He...   \n",
       "4630  Wentworth: Season 1: The Girl Who Waited (Epis...   \n",
       "7321  Chef's Table: BBQ: Volume 1: Rodney Scott (Epi...   \n",
       "5261  Next in Fashion: Season 1: Red Carpet (Episode 1)   \n",
       "726                              Step Up 2: The Streets   \n",
       "50                          Trailer: Christmas with You   \n",
       "\n",
       "     Supplemental Video Type                                   Device Type  \\\n",
       "2400                     NaN  Netflix Windows App - Cadmium Windows Mobile   \n",
       "6458                     NaN          Google Chromecast V3 Streaming Stick   \n",
       "632                      NaN                   DefaultWidevineAndroidPhone   \n",
       "4776                     NaN  Android DefaultWidevineL3Phone Android Phone   \n",
       "3833                     NaN                   DefaultWidevineAndroidPhone   \n",
       "4630                     NaN  Android DefaultWidevineL3Phone Android Phone   \n",
       "7321                     NaN          Google Chromecast V3 Streaming Stick   \n",
       "5261                     NaN  Android DefaultWidevineL3Phone Android Phone   \n",
       "726                      NaN                   DefaultWidevineAndroidPhone   \n",
       "50                   TRAILER  Android DefaultWidevineL3Phone Android Phone   \n",
       "\n",
       "      Bookmark  Latest Bookmark             Country  \n",
       "2400  00:43:45         00:43:45  US (United States)  \n",
       "6458  00:19:18  Not latest view  US (United States)  \n",
       "632   00:43:05  Not latest view  US (United States)  \n",
       "4776  00:42:04         00:42:04  US (United States)  \n",
       "3833  00:14:46  Not latest view  US (United States)  \n",
       "4630  00:44:03         00:44:03  US (United States)  \n",
       "7321  00:39:08         00:39:08  US (United States)  \n",
       "5261  00:04:07  Not latest view  US (United States)  \n",
       "726   00:11:50         00:11:50         FR (France)  \n",
       "50    00:00:16  Not latest view  US (United States)  "
      ]
     },
     "execution_count": 72,
     "metadata": {},
     "output_type": "execute_result"
    }
   ],
   "source": [
    "df.sample(n=10)"
   ]
  },
  {
   "cell_type": "code",
   "execution_count": 73,
   "id": "482c3c0f",
   "metadata": {},
   "outputs": [
    {
     "data": {
      "text/plain": [
       "array(['#whoruntheworld', 'Adam & Nicole', 'Adam Portuguese', 'Harper',\n",
       "       'Kids'], dtype=object)"
      ]
     },
     "execution_count": 73,
     "metadata": {},
     "output_type": "execute_result"
    }
   ],
   "source": [
    "df[\"Profile Name\"].unique()"
   ]
  },
  {
   "cell_type": "code",
   "execution_count": 74,
   "id": "f95be703",
   "metadata": {},
   "outputs": [
    {
     "data": {
      "text/plain": [
       "array(['Netflix Windows App - Cadmium Windows Mobile',\n",
       "       'Android DefaultWidevineL3Phone Android Phone',\n",
       "       'DefaultWidevineAndroidPhone',\n",
       "       'Google Chromecast V3 Streaming Stick',\n",
       "       'Google Chromecast streaming stick',\n",
       "       'Google Smart Display Nest Hub 2018', 'Firefox PC (Cadmium)',\n",
       "       'Edge OSS - Windows (Cadmium)', 'Chrome PC (Cadmium)',\n",
       "       'Samsung 2015 NT14M DTV Smart TV'], dtype=object)"
      ]
     },
     "execution_count": 74,
     "metadata": {},
     "output_type": "execute_result"
    }
   ],
   "source": [
    "df[\"Device Type\"].unique()"
   ]
  },
  {
   "cell_type": "markdown",
   "id": "92a5885d",
   "metadata": {},
   "source": [
    "### Possible Questions for Data\n",
    "##### Which Profile watched the most (time)?\n",
    "##### Which Profile has the most watching activities/interactions?\n",
    "##### What is the average watching time (per Profile)?\n",
    "##### What devices are used by which Profile? And which device is used the most?\n",
    "##### What was the most popular/watched title?\n",
    "##### Was there any title watched by all profiles?\n",
    "##### Can we recommend a title for one profile based on the common watching history of other profiles?"
   ]
  },
  {
   "cell_type": "markdown",
   "id": "4714739c",
   "metadata": {},
   "source": [
    "## Transform the data"
   ]
  },
  {
   "cell_type": "code",
   "execution_count": 75,
   "id": "4b43d97f",
   "metadata": {},
   "outputs": [
    {
     "data": {
      "text/plain": [
       "Profile Name               object\n",
       "Start Time                 object\n",
       "Duration                   object\n",
       "Attributes                 object\n",
       "Title                      object\n",
       "Supplemental Video Type    object\n",
       "Device Type                object\n",
       "Bookmark                   object\n",
       "Latest Bookmark            object\n",
       "Country                    object\n",
       "dtype: object"
      ]
     },
     "execution_count": 75,
     "metadata": {},
     "output_type": "execute_result"
    }
   ],
   "source": [
    "df.dtypes"
   ]
  },
  {
   "cell_type": "code",
   "execution_count": 76,
   "id": "9f38bcb7",
   "metadata": {},
   "outputs": [
    {
     "data": {
      "text/plain": [
       "Profile Name                            object\n",
       "Start Time                 datetime64[ns, UTC]\n",
       "Duration                       timedelta64[ns]\n",
       "Attributes                              object\n",
       "Title                                   object\n",
       "Supplemental Video Type                 object\n",
       "Device Type                             object\n",
       "Bookmark                                object\n",
       "Latest Bookmark                         object\n",
       "Country                                 object\n",
       "dtype: object"
      ]
     },
     "execution_count": 76,
     "metadata": {},
     "output_type": "execute_result"
    }
   ],
   "source": [
    "df['Start Time'] = pd.to_datetime(df['Start Time'], utc=True)\n",
    "df['Duration'] = pd.to_timedelta(df['Duration'])\n",
    "df.dtypes"
   ]
  },
  {
   "cell_type": "code",
   "execution_count": 77,
   "id": "2690fd71",
   "metadata": {},
   "outputs": [
    {
     "data": {
      "text/html": [
       "<div>\n",
       "<style scoped>\n",
       "    .dataframe tbody tr th:only-of-type {\n",
       "        vertical-align: middle;\n",
       "    }\n",
       "\n",
       "    .dataframe tbody tr th {\n",
       "        vertical-align: top;\n",
       "    }\n",
       "\n",
       "    .dataframe thead th {\n",
       "        text-align: right;\n",
       "    }\n",
       "</style>\n",
       "<table border=\"1\" class=\"dataframe\">\n",
       "  <thead>\n",
       "    <tr style=\"text-align: right;\">\n",
       "      <th></th>\n",
       "      <th>Profile Name</th>\n",
       "      <th>Start Time</th>\n",
       "      <th>Duration</th>\n",
       "      <th>Attributes</th>\n",
       "      <th>Title</th>\n",
       "      <th>Supplemental Video Type</th>\n",
       "      <th>Device Type</th>\n",
       "      <th>Bookmark</th>\n",
       "      <th>Latest Bookmark</th>\n",
       "      <th>Country</th>\n",
       "    </tr>\n",
       "  </thead>\n",
       "  <tbody>\n",
       "    <tr>\n",
       "      <th>7434</th>\n",
       "      <td>Adam &amp; Nicole</td>\n",
       "      <td>2020-05-29 00:48:26+00:00</td>\n",
       "      <td>0 days 00:28:39</td>\n",
       "      <td>NaN</td>\n",
       "      <td>Nadiya’s Time to Eat: Season 1: Recipes in a R...</td>\n",
       "      <td>NaN</td>\n",
       "      <td>Google Chromecast V3 Streaming Stick</td>\n",
       "      <td>00:28:39</td>\n",
       "      <td>00:28:39</td>\n",
       "      <td>US (United States)</td>\n",
       "    </tr>\n",
       "    <tr>\n",
       "      <th>6018</th>\n",
       "      <td>Adam &amp; Nicole</td>\n",
       "      <td>2022-11-12 21:48:34+00:00</td>\n",
       "      <td>0 days 01:37:11</td>\n",
       "      <td>NaN</td>\n",
       "      <td>A Boy Called Christmas</td>\n",
       "      <td>NaN</td>\n",
       "      <td>Google Chromecast V3 Streaming Stick</td>\n",
       "      <td>01:37:11</td>\n",
       "      <td>01:37:11</td>\n",
       "      <td>US (United States)</td>\n",
       "    </tr>\n",
       "    <tr>\n",
       "      <th>2978</th>\n",
       "      <td>#whoruntheworld</td>\n",
       "      <td>2021-07-30 19:18:10+00:00</td>\n",
       "      <td>0 days 00:53:24</td>\n",
       "      <td>NaN</td>\n",
       "      <td>The Twilight Saga: Breaking Dawn: Part 2</td>\n",
       "      <td>NaN</td>\n",
       "      <td>DefaultWidevineAndroidPhone</td>\n",
       "      <td>00:53:28</td>\n",
       "      <td>Not latest view</td>\n",
       "      <td>US (United States)</td>\n",
       "    </tr>\n",
       "    <tr>\n",
       "      <th>6146</th>\n",
       "      <td>Adam &amp; Nicole</td>\n",
       "      <td>2022-07-17 20:51:48+00:00</td>\n",
       "      <td>0 days 00:12:28</td>\n",
       "      <td>NaN</td>\n",
       "      <td>Heartland: Season 14: Outsiders (Episode 5)</td>\n",
       "      <td>NaN</td>\n",
       "      <td>Google Chromecast V3 Streaming Stick</td>\n",
       "      <td>00:33:02</td>\n",
       "      <td>Not latest view</td>\n",
       "      <td>US (United States)</td>\n",
       "    </tr>\n",
       "    <tr>\n",
       "      <th>2095</th>\n",
       "      <td>#whoruntheworld</td>\n",
       "      <td>2021-10-21 02:41:53+00:00</td>\n",
       "      <td>0 days 00:13:47</td>\n",
       "      <td>NaN</td>\n",
       "      <td>Headspace Guide to Sleep: Season 1: How to Sle...</td>\n",
       "      <td>NaN</td>\n",
       "      <td>Android DefaultWidevineL3Phone Android Phone</td>\n",
       "      <td>00:15:05</td>\n",
       "      <td>Not latest view</td>\n",
       "      <td>US (United States)</td>\n",
       "    </tr>\n",
       "    <tr>\n",
       "      <th>5520</th>\n",
       "      <td>#whoruntheworld</td>\n",
       "      <td>2019-11-25 00:42:40+00:00</td>\n",
       "      <td>0 days 00:21:52</td>\n",
       "      <td>NaN</td>\n",
       "      <td>Friends: Season 3: The One Where Ross &amp; Rachel...</td>\n",
       "      <td>NaN</td>\n",
       "      <td>Android DefaultWidevineL3Phone Android Phone</td>\n",
       "      <td>00:22:33</td>\n",
       "      <td>00:22:33</td>\n",
       "      <td>US (United States)</td>\n",
       "    </tr>\n",
       "    <tr>\n",
       "      <th>7793</th>\n",
       "      <td>Adam &amp; Nicole</td>\n",
       "      <td>2020-02-06 20:31:16+00:00</td>\n",
       "      <td>0 days 00:23:38</td>\n",
       "      <td>NaN</td>\n",
       "      <td>Jane The Virgin: Season 5: Chapter Ninety-Thre...</td>\n",
       "      <td>NaN</td>\n",
       "      <td>Google Chromecast V3 Streaming Stick</td>\n",
       "      <td>00:42:15</td>\n",
       "      <td>Not latest view</td>\n",
       "      <td>US (United States)</td>\n",
       "    </tr>\n",
       "    <tr>\n",
       "      <th>1513</th>\n",
       "      <td>#whoruntheworld</td>\n",
       "      <td>2022-01-22 03:28:24+00:00</td>\n",
       "      <td>0 days 00:00:12</td>\n",
       "      <td>NaN</td>\n",
       "      <td>Trailer: The Royal Treatment</td>\n",
       "      <td>TRAILER</td>\n",
       "      <td>Android DefaultWidevineL3Phone Android Phone</td>\n",
       "      <td>00:00:12</td>\n",
       "      <td>00:00:12</td>\n",
       "      <td>US (United States)</td>\n",
       "    </tr>\n",
       "    <tr>\n",
       "      <th>4042</th>\n",
       "      <td>#whoruntheworld</td>\n",
       "      <td>2020-11-24 12:30:04+00:00</td>\n",
       "      <td>0 days 00:08:21</td>\n",
       "      <td>NaN</td>\n",
       "      <td>The Great British Baking Show: Collection 8: P...</td>\n",
       "      <td>NaN</td>\n",
       "      <td>DefaultWidevineAndroidPhone</td>\n",
       "      <td>00:41:51</td>\n",
       "      <td>Not latest view</td>\n",
       "      <td>US (United States)</td>\n",
       "    </tr>\n",
       "    <tr>\n",
       "      <th>2079</th>\n",
       "      <td>#whoruntheworld</td>\n",
       "      <td>2021-11-03 21:20:19+00:00</td>\n",
       "      <td>0 days 02:03:04</td>\n",
       "      <td>NaN</td>\n",
       "      <td>Army of Thieves</td>\n",
       "      <td>NaN</td>\n",
       "      <td>DefaultWidevineAndroidPhone</td>\n",
       "      <td>02:03:05</td>\n",
       "      <td>02:03:05</td>\n",
       "      <td>US (United States)</td>\n",
       "    </tr>\n",
       "  </tbody>\n",
       "</table>\n",
       "</div>"
      ],
      "text/plain": [
       "         Profile Name                Start Time        Duration Attributes  \\\n",
       "7434    Adam & Nicole 2020-05-29 00:48:26+00:00 0 days 00:28:39        NaN   \n",
       "6018    Adam & Nicole 2022-11-12 21:48:34+00:00 0 days 01:37:11        NaN   \n",
       "2978  #whoruntheworld 2021-07-30 19:18:10+00:00 0 days 00:53:24        NaN   \n",
       "6146    Adam & Nicole 2022-07-17 20:51:48+00:00 0 days 00:12:28        NaN   \n",
       "2095  #whoruntheworld 2021-10-21 02:41:53+00:00 0 days 00:13:47        NaN   \n",
       "5520  #whoruntheworld 2019-11-25 00:42:40+00:00 0 days 00:21:52        NaN   \n",
       "7793    Adam & Nicole 2020-02-06 20:31:16+00:00 0 days 00:23:38        NaN   \n",
       "1513  #whoruntheworld 2022-01-22 03:28:24+00:00 0 days 00:00:12        NaN   \n",
       "4042  #whoruntheworld 2020-11-24 12:30:04+00:00 0 days 00:08:21        NaN   \n",
       "2079  #whoruntheworld 2021-11-03 21:20:19+00:00 0 days 02:03:04        NaN   \n",
       "\n",
       "                                                  Title  \\\n",
       "7434  Nadiya’s Time to Eat: Season 1: Recipes in a R...   \n",
       "6018                             A Boy Called Christmas   \n",
       "2978           The Twilight Saga: Breaking Dawn: Part 2   \n",
       "6146        Heartland: Season 14: Outsiders (Episode 5)   \n",
       "2095  Headspace Guide to Sleep: Season 1: How to Sle...   \n",
       "5520  Friends: Season 3: The One Where Ross & Rachel...   \n",
       "7793  Jane The Virgin: Season 5: Chapter Ninety-Thre...   \n",
       "1513                       Trailer: The Royal Treatment   \n",
       "4042  The Great British Baking Show: Collection 8: P...   \n",
       "2079                                    Army of Thieves   \n",
       "\n",
       "     Supplemental Video Type                                   Device Type  \\\n",
       "7434                     NaN          Google Chromecast V3 Streaming Stick   \n",
       "6018                     NaN          Google Chromecast V3 Streaming Stick   \n",
       "2978                     NaN                   DefaultWidevineAndroidPhone   \n",
       "6146                     NaN          Google Chromecast V3 Streaming Stick   \n",
       "2095                     NaN  Android DefaultWidevineL3Phone Android Phone   \n",
       "5520                     NaN  Android DefaultWidevineL3Phone Android Phone   \n",
       "7793                     NaN          Google Chromecast V3 Streaming Stick   \n",
       "1513                 TRAILER  Android DefaultWidevineL3Phone Android Phone   \n",
       "4042                     NaN                   DefaultWidevineAndroidPhone   \n",
       "2079                     NaN                   DefaultWidevineAndroidPhone   \n",
       "\n",
       "      Bookmark  Latest Bookmark             Country  \n",
       "7434  00:28:39         00:28:39  US (United States)  \n",
       "6018  01:37:11         01:37:11  US (United States)  \n",
       "2978  00:53:28  Not latest view  US (United States)  \n",
       "6146  00:33:02  Not latest view  US (United States)  \n",
       "2095  00:15:05  Not latest view  US (United States)  \n",
       "5520  00:22:33         00:22:33  US (United States)  \n",
       "7793  00:42:15  Not latest view  US (United States)  \n",
       "1513  00:00:12         00:00:12  US (United States)  \n",
       "4042  00:41:51  Not latest view  US (United States)  \n",
       "2079  02:03:05         02:03:05  US (United States)  "
      ]
     },
     "execution_count": 77,
     "metadata": {},
     "output_type": "execute_result"
    }
   ],
   "source": [
    "df.sample(n=10)"
   ]
  },
  {
   "cell_type": "markdown",
   "id": "ae66656b",
   "metadata": {},
   "source": [
    "## Answer Questions & Visualize the data"
   ]
  },
  {
   "cell_type": "markdown",
   "id": "b8463a9f",
   "metadata": {},
   "source": [
    "### Which Profile has the most watching activities/interactions?"
   ]
  },
  {
   "cell_type": "code",
   "execution_count": 78,
   "id": "40e49298",
   "metadata": {},
   "outputs": [
    {
     "data": {
      "text/plain": [
       "#whoruntheworld    5972\n",
       "Adam & Nicole      2281\n",
       "Adam Portuguese     482\n",
       "Harper              461\n",
       "Kids                 11\n",
       "Name: Profile Name, dtype: int64"
      ]
     },
     "execution_count": 78,
     "metadata": {},
     "output_type": "execute_result"
    }
   ],
   "source": [
    "df['Profile Name'].value_counts()"
   ]
  },
  {
   "cell_type": "markdown",
   "id": "65be537d",
   "metadata": {},
   "source": [
    "##### It appears that #whoruntheworld profile has the most view records."
   ]
  },
  {
   "cell_type": "code",
   "execution_count": 79,
   "id": "d4c4107d",
   "metadata": {},
   "outputs": [
    {
     "data": {
      "image/png": "[encoded data removed]",
      "text/plain": [
       "<Figure size 640x480 with 1 Axes>"
      ]
     },
     "metadata": {},
     "output_type": "display_data"
    }
   ],
   "source": [
    "df['Profile Name'].value_counts().plot(kind='bar')\n",
    "plt.show()"
   ]
  },
  {
   "cell_type": "markdown",
   "id": "a4ff3e2a",
   "metadata": {},
   "source": [
    "##### Which profile watched the most (time)?"
   ]
  },
  {
   "cell_type": "code",
   "execution_count": 80,
   "id": "3af156a5",
   "metadata": {},
   "outputs": [
    {
     "data": {
      "text/plain": [
       "Timedelta('147 days 02:56:47')"
      ]
     },
     "execution_count": 80,
     "metadata": {},
     "output_type": "execute_result"
    }
   ],
   "source": [
    "df.Duration.sum()"
   ]
  },
  {
   "cell_type": "code",
   "execution_count": 81,
   "id": "fc7afc19",
   "metadata": {},
   "outputs": [
    {
     "data": {
      "text/html": [
       "<div>\n",
       "<style scoped>\n",
       "    .dataframe tbody tr th:only-of-type {\n",
       "        vertical-align: middle;\n",
       "    }\n",
       "\n",
       "    .dataframe tbody tr th {\n",
       "        vertical-align: top;\n",
       "    }\n",
       "\n",
       "    .dataframe thead th {\n",
       "        text-align: right;\n",
       "    }\n",
       "</style>\n",
       "<table border=\"1\" class=\"dataframe\">\n",
       "  <thead>\n",
       "    <tr style=\"text-align: right;\">\n",
       "      <th></th>\n",
       "      <th>Profile Name</th>\n",
       "      <th>Start Time</th>\n",
       "      <th>Duration</th>\n",
       "      <th>Attributes</th>\n",
       "      <th>Title</th>\n",
       "      <th>Supplemental Video Type</th>\n",
       "      <th>Device Type</th>\n",
       "      <th>Bookmark</th>\n",
       "      <th>Latest Bookmark</th>\n",
       "      <th>Country</th>\n",
       "    </tr>\n",
       "  </thead>\n",
       "  <tbody>\n",
       "    <tr>\n",
       "      <th>8252</th>\n",
       "      <td>Adam &amp; Nicole</td>\n",
       "      <td>2019-08-08 22:52:58+00:00</td>\n",
       "      <td>0 days 00:00:36</td>\n",
       "      <td>NaN</td>\n",
       "      <td>Marvel's Agents of S.H.I.E.L.D.: Season 2: Sha...</td>\n",
       "      <td>NaN</td>\n",
       "      <td>Android DefaultWidevineL3Phone Android Phone</td>\n",
       "      <td>00:00:36</td>\n",
       "      <td>00:00:36</td>\n",
       "      <td>US (United States)</td>\n",
       "    </tr>\n",
       "    <tr>\n",
       "      <th>8251</th>\n",
       "      <td>Adam &amp; Nicole</td>\n",
       "      <td>2019-08-08 22:59:51+00:00</td>\n",
       "      <td>0 days 00:02:24</td>\n",
       "      <td>NaN</td>\n",
       "      <td>Arrow: Season 5: Lian Yu (Episode 23)</td>\n",
       "      <td>NaN</td>\n",
       "      <td>Android DefaultWidevineL3Phone Android Phone</td>\n",
       "      <td>00:02:24</td>\n",
       "      <td>00:02:24</td>\n",
       "      <td>US (United States)</td>\n",
       "    </tr>\n",
       "    <tr>\n",
       "      <th>8250</th>\n",
       "      <td>Adam &amp; Nicole</td>\n",
       "      <td>2019-08-08 23:05:59+00:00</td>\n",
       "      <td>0 days 00:42:30</td>\n",
       "      <td>NaN</td>\n",
       "      <td>Marvel's Agents of S.H.I.E.L.D.: Season 1: T.R...</td>\n",
       "      <td>NaN</td>\n",
       "      <td>Google Chromecast V3 Streaming Stick</td>\n",
       "      <td>00:42:30</td>\n",
       "      <td>00:42:30</td>\n",
       "      <td>US (United States)</td>\n",
       "    </tr>\n",
       "    <tr>\n",
       "      <th>8249</th>\n",
       "      <td>Adam &amp; Nicole</td>\n",
       "      <td>2019-08-08 23:50:50+00:00</td>\n",
       "      <td>0 days 00:08:13</td>\n",
       "      <td>NaN</td>\n",
       "      <td>Marvel's Agents of S.H.I.E.L.D.: Season 1: T.A...</td>\n",
       "      <td>NaN</td>\n",
       "      <td>Google Chromecast V3 Streaming Stick</td>\n",
       "      <td>00:08:59</td>\n",
       "      <td>Not latest view</td>\n",
       "      <td>US (United States)</td>\n",
       "    </tr>\n",
       "    <tr>\n",
       "      <th>5971</th>\n",
       "      <td>#whoruntheworld</td>\n",
       "      <td>2019-08-09 02:53:18+00:00</td>\n",
       "      <td>0 days 00:44:12</td>\n",
       "      <td>NaN</td>\n",
       "      <td>Queer Eye: Season 4: Without Further Ado (Epis...</td>\n",
       "      <td>NaN</td>\n",
       "      <td>Android DefaultWidevineL3Phone Android Phone</td>\n",
       "      <td>00:44:13</td>\n",
       "      <td>Not latest view</td>\n",
       "      <td>US (United States)</td>\n",
       "    </tr>\n",
       "    <tr>\n",
       "      <th>...</th>\n",
       "      <td>...</td>\n",
       "      <td>...</td>\n",
       "      <td>...</td>\n",
       "      <td>...</td>\n",
       "      <td>...</td>\n",
       "      <td>...</td>\n",
       "      <td>...</td>\n",
       "      <td>...</td>\n",
       "      <td>...</td>\n",
       "      <td>...</td>\n",
       "    </tr>\n",
       "    <tr>\n",
       "      <th>8739</th>\n",
       "      <td>Harper</td>\n",
       "      <td>2022-12-01 13:30:41+00:00</td>\n",
       "      <td>0 days 00:00:02</td>\n",
       "      <td>NaN</td>\n",
       "      <td>Spirit Riding Free: Season 7: Lucky and the Th...</td>\n",
       "      <td>NaN</td>\n",
       "      <td>Android DefaultWidevineL3Phone Android Phone</td>\n",
       "      <td>00:00:01</td>\n",
       "      <td>Not latest view</td>\n",
       "      <td>US (United States)</td>\n",
       "    </tr>\n",
       "    <tr>\n",
       "      <th>8738</th>\n",
       "      <td>Harper</td>\n",
       "      <td>2022-12-01 13:31:13+00:00</td>\n",
       "      <td>0 days 00:22:48</td>\n",
       "      <td>NaN</td>\n",
       "      <td>Spirit Riding Free: Season 7: Lucky and the Th...</td>\n",
       "      <td>NaN</td>\n",
       "      <td>Google Chromecast V3 Streaming Stick</td>\n",
       "      <td>00:22:48</td>\n",
       "      <td>00:22:48</td>\n",
       "      <td>US (United States)</td>\n",
       "    </tr>\n",
       "    <tr>\n",
       "      <th>8737</th>\n",
       "      <td>Harper</td>\n",
       "      <td>2022-12-01 13:59:38+00:00</td>\n",
       "      <td>0 days 00:22:47</td>\n",
       "      <td>NaN</td>\n",
       "      <td>Spirit Riding Free: Season 7: Lucky and the Ra...</td>\n",
       "      <td>NaN</td>\n",
       "      <td>Google Chromecast V3 Streaming Stick</td>\n",
       "      <td>00:22:47</td>\n",
       "      <td>00:22:47</td>\n",
       "      <td>US (United States)</td>\n",
       "    </tr>\n",
       "    <tr>\n",
       "      <th>8736</th>\n",
       "      <td>Harper</td>\n",
       "      <td>2022-12-01 14:22:54+00:00</td>\n",
       "      <td>0 days 00:22:47</td>\n",
       "      <td>NaN</td>\n",
       "      <td>Spirit Riding Free: Season 7: Lucky and the Do...</td>\n",
       "      <td>NaN</td>\n",
       "      <td>Google Chromecast V3 Streaming Stick</td>\n",
       "      <td>00:22:47</td>\n",
       "      <td>00:22:47</td>\n",
       "      <td>US (United States)</td>\n",
       "    </tr>\n",
       "    <tr>\n",
       "      <th>8735</th>\n",
       "      <td>Harper</td>\n",
       "      <td>2022-12-01 14:45:51+00:00</td>\n",
       "      <td>0 days 00:02:00</td>\n",
       "      <td>NaN</td>\n",
       "      <td>Spirit Riding Free: Season 8: Lucky and the Wa...</td>\n",
       "      <td>NaN</td>\n",
       "      <td>Google Chromecast V3 Streaming Stick</td>\n",
       "      <td>00:02:00</td>\n",
       "      <td>00:02:00</td>\n",
       "      <td>US (United States)</td>\n",
       "    </tr>\n",
       "  </tbody>\n",
       "</table>\n",
       "<p>9207 rows × 10 columns</p>\n",
       "</div>"
      ],
      "text/plain": [
       "         Profile Name                Start Time        Duration Attributes  \\\n",
       "8252    Adam & Nicole 2019-08-08 22:52:58+00:00 0 days 00:00:36        NaN   \n",
       "8251    Adam & Nicole 2019-08-08 22:59:51+00:00 0 days 00:02:24        NaN   \n",
       "8250    Adam & Nicole 2019-08-08 23:05:59+00:00 0 days 00:42:30        NaN   \n",
       "8249    Adam & Nicole 2019-08-08 23:50:50+00:00 0 days 00:08:13        NaN   \n",
       "5971  #whoruntheworld 2019-08-09 02:53:18+00:00 0 days 00:44:12        NaN   \n",
       "...               ...                       ...             ...        ...   \n",
       "8739           Harper 2022-12-01 13:30:41+00:00 0 days 00:00:02        NaN   \n",
       "8738           Harper 2022-12-01 13:31:13+00:00 0 days 00:22:48        NaN   \n",
       "8737           Harper 2022-12-01 13:59:38+00:00 0 days 00:22:47        NaN   \n",
       "8736           Harper 2022-12-01 14:22:54+00:00 0 days 00:22:47        NaN   \n",
       "8735           Harper 2022-12-01 14:45:51+00:00 0 days 00:02:00        NaN   \n",
       "\n",
       "                                                  Title  \\\n",
       "8252  Marvel's Agents of S.H.I.E.L.D.: Season 2: Sha...   \n",
       "8251              Arrow: Season 5: Lian Yu (Episode 23)   \n",
       "8250  Marvel's Agents of S.H.I.E.L.D.: Season 1: T.R...   \n",
       "8249  Marvel's Agents of S.H.I.E.L.D.: Season 1: T.A...   \n",
       "5971  Queer Eye: Season 4: Without Further Ado (Epis...   \n",
       "...                                                 ...   \n",
       "8739  Spirit Riding Free: Season 7: Lucky and the Th...   \n",
       "8738  Spirit Riding Free: Season 7: Lucky and the Th...   \n",
       "8737  Spirit Riding Free: Season 7: Lucky and the Ra...   \n",
       "8736  Spirit Riding Free: Season 7: Lucky and the Do...   \n",
       "8735  Spirit Riding Free: Season 8: Lucky and the Wa...   \n",
       "\n",
       "     Supplemental Video Type                                   Device Type  \\\n",
       "8252                     NaN  Android DefaultWidevineL3Phone Android Phone   \n",
       "8251                     NaN  Android DefaultWidevineL3Phone Android Phone   \n",
       "8250                     NaN          Google Chromecast V3 Streaming Stick   \n",
       "8249                     NaN          Google Chromecast V3 Streaming Stick   \n",
       "5971                     NaN  Android DefaultWidevineL3Phone Android Phone   \n",
       "...                      ...                                           ...   \n",
       "8739                     NaN  Android DefaultWidevineL3Phone Android Phone   \n",
       "8738                     NaN          Google Chromecast V3 Streaming Stick   \n",
       "8737                     NaN          Google Chromecast V3 Streaming Stick   \n",
       "8736                     NaN          Google Chromecast V3 Streaming Stick   \n",
       "8735                     NaN          Google Chromecast V3 Streaming Stick   \n",
       "\n",
       "      Bookmark  Latest Bookmark             Country  \n",
       "8252  00:00:36         00:00:36  US (United States)  \n",
       "8251  00:02:24         00:02:24  US (United States)  \n",
       "8250  00:42:30         00:42:30  US (United States)  \n",
       "8249  00:08:59  Not latest view  US (United States)  \n",
       "5971  00:44:13  Not latest view  US (United States)  \n",
       "...        ...              ...                 ...  \n",
       "8739  00:00:01  Not latest view  US (United States)  \n",
       "8738  00:22:48         00:22:48  US (United States)  \n",
       "8737  00:22:47         00:22:47  US (United States)  \n",
       "8736  00:22:47         00:22:47  US (United States)  \n",
       "8735  00:02:00         00:02:00  US (United States)  \n",
       "\n",
       "[9207 rows x 10 columns]"
      ]
     },
     "execution_count": 81,
     "metadata": {},
     "output_type": "execute_result"
    }
   ],
   "source": [
    "df.sort_values('Start Time')"
   ]
  },
  {
   "cell_type": "code",
   "execution_count": 82,
   "id": "a85e5d36",
   "metadata": {},
   "outputs": [
    {
     "name": "stdout",
     "output_type": "stream",
     "text": [
      "#whoruntheworld\n",
      "93 days 04:59:24\n",
      "Adam & Nicole\n",
      "44 days 11:39:55\n",
      "Adam Portuguese\n",
      "3 days 22:22:12\n",
      "Harper\n",
      "5 days 08:28:42\n",
      "Kids\n",
      "0 days 03:26:34\n"
     ]
    }
   ],
   "source": [
    "for profile in df['Profile Name'].unique():\n",
    "    print(profile)\n",
    "    print(df.loc[df['Profile Name'] == f'{profile}', 'Duration'].sum())"
   ]
  },
  {
   "cell_type": "code",
   "execution_count": 83,
   "id": "48058706",
   "metadata": {},
   "outputs": [
    {
     "data": {
      "text/plain": [
       "{'#whoruntheworld': 8053164.0,\n",
       " 'Adam & Nicole': 3843595.0,\n",
       " 'Adam Portuguese': 339732.0,\n",
       " 'Harper': 462522.0,\n",
       " 'Kids': 12394.0}"
      ]
     },
     "execution_count": 83,
     "metadata": {},
     "output_type": "execute_result"
    }
   ],
   "source": [
    "viewTime = {}\n",
    "for profile in df['Profile Name'].unique():\n",
    "    viewTime.update({f'{profile}': df.loc[df['Profile Name'] == f'{profile}', 'Duration'].astype('timedelta64[s]').sum()})\n",
    "\n",
    "viewTime"
   ]
  },
  {
   "cell_type": "code",
   "execution_count": 84,
   "id": "0c705a29",
   "metadata": {},
   "outputs": [
    {
     "data": {
      "image/png": "[encoded data removed]",
      "text/plain": [
       "<Figure size 640x480 with 1 Axes>"
      ]
     },
     "metadata": {},
     "output_type": "display_data"
    }
   ],
   "source": [
    "plt.bar(*zip(*viewTime.items()))\n",
    "plt.show()"
   ]
  },
  {
   "cell_type": "markdown",
   "id": "19294445",
   "metadata": {},
   "source": [
    "#### What is the average watching time (per Profile)?"
   ]
  },
  {
   "cell_type": "code",
   "execution_count": 85,
   "id": "f5355d3c",
   "metadata": {},
   "outputs": [
    {
     "name": "stdout",
     "output_type": "stream",
     "text": [
      "Profile Name     Start Time                 Duration         Attributes                       Title                                                               Supplemental Video Type  Device Type                                   Bookmark  Latest Bookmark  Country           \n",
      "#whoruntheworld  2021-07-18 02:36:34+00:00  0 days 00:00:05  Autoplayed: user action: None;   Trailer: Gunpowder Milkshake                                        TRAILER                  Firefox PC (Cadmium)                          00:00:05  Not latest view  US (United States)   93 days 04:59:24\n",
      "                 2021-09-24 18:08:36+00:00  0 days 00:00:37  Autoplayed: user action: None;   Drama/Character Relationships Clip: Midnight Mass                   HOOK                     Netflix Windows App - Cadmium Windows Mobile  00:00:37  00:00:37         US (United States)   93 days 04:59:24\n",
      "                 2022-06-22 01:15:23+00:00  0 days 00:01:09  Autoplayed: user action: None;   Main Character Intro Clip: Chickenhare and the Hamster of Darkness  HOOK                     Netflix Windows App - Cadmium Windows Mobile  00:00:00  00:00:00         US (United States)   93 days 04:59:24\n",
      "                 2022-06-02 21:04:46+00:00  0 days 00:01:09  Autoplayed: user action: None;   Plot Clip: Single All The Way                                       HOOK                     Netflix Windows App - Cadmium Windows Mobile  00:00:00  00:00:00         US (United States)   93 days 04:59:24\n",
      "                 2022-06-02 17:36:02+00:00  0 days 00:00:23  Autoplayed: user action: None;   Plot Clip: Single All The Way                                       HOOK                     Netflix Windows App - Cadmium Windows Mobile  00:00:23  Not latest view  US (United States)   93 days 04:59:24\n",
      "                                                                                                                                                                                                                                                                                               ...       \n",
      "                 2021-09-10 18:09:11+00:00  0 days 00:00:05  Autoplayed: user action: None;   Moment of High Emotion Clip: Kate                                   HOOK                     Netflix Windows App - Cadmium Windows Mobile  00:00:05  00:00:05         US (United States)   93 days 04:59:24\n",
      "                 2021-09-09 13:40:09+00:00  0 days 00:00:08  Autoplayed: user action: None;   Plot Clip: Kid Cosmic: Season 2                                     HOOK                     Netflix Windows App - Cadmium Windows Mobile  00:00:08  00:00:08         US (United States)   93 days 04:59:24\n",
      "                 2021-09-06 14:06:17+00:00  0 days 00:01:37  Autoplayed: user action: None;   Tidying Up with Marie Kondo (Trailer)                               TRAILER                  Netflix Windows App - Cadmium Windows Mobile  00:00:00  00:00:00         US (United States)   93 days 04:59:24\n",
      "                 2021-09-04 22:19:03+00:00  0 days 00:00:05  Autoplayed: user action: None;   Frontier (Trailer)                                                  TRAILER                  Netflix Windows App - Cadmium Windows Mobile  00:00:05  00:00:05         US (United States)   93 days 04:59:24\n",
      "                 2022-11-30 18:01:32+00:00  0 days 00:00:09  Autoplayed: user action: None;   Season 1 Clip: Snack VS. Chef                                       HOOK                     Netflix Windows App - Cadmium Windows Mobile  00:00:09  00:00:09         US (United States)   93 days 04:59:24\n",
      "Length: 89, dtype: timedelta64[ns]\n",
      "Profile Name   Start Time                 Duration         Attributes                       Title                                                         Supplemental Video Type  Device Type                      Bookmark  Latest Bookmark  Country           \n",
      "Adam & Nicole  2021-11-19 22:43:11+00:00  0 days 00:00:07  Autoplayed: user action: None;   The Princess Switch (Trailer)                                 TRAILER                  Chrome PC (Cadmium)              00:00:07  00:00:07         US (United States)   44 days 11:39:55\n",
      "               2021-11-19 22:44:44+00:00  0 days 00:00:04  Autoplayed: user action: None;   The Package (Trailer)                                         TRAILER                  Chrome PC (Cadmium)              00:00:05  00:00:05         US (United States)   44 days 11:39:55\n",
      "               2021-12-09 19:15:59+00:00  0 days 00:00:06  Autoplayed: user action: None;   This Little Love Of Mine_hook_01_16x9                         HOOK                     Chrome PC (Cadmium)              00:00:06  00:00:06         US (United States)   44 days 11:39:55\n",
      "               2021-12-09 20:16:42+00:00  0 days 00:00:06  Autoplayed: user action: None;   Christmas Inheritance (Trailer)                               TRAILER                  Chrome PC (Cadmium)              00:00:06  00:00:06         US (United States)   44 days 11:39:55\n",
      "               2022-05-10 14:56:05+00:00  0 days 00:00:06  Autoplayed: user action: None;   Comedy Clip 2: Christina P: Mom Genes                         HOOK                     Chrome PC (Cadmium)              00:00:06  00:00:06         US (United States)   44 days 11:39:55\n",
      "               2022-06-19 00:48:40+00:00  0 days 00:00:17  Autoplayed: user action: None;   Season 1 Sensory Clip 2: Iron Chef: Quest for an Iron Legend  HOOK                     Samsung 2015 NT14M DTV Smart TV  00:00:17  00:00:17         US (United States)   44 days 11:39:55\n",
      "dtype: timedelta64[ns]\n",
      "Series([], dtype: timedelta64[ns])\n",
      "Profile Name  Start Time                 Duration         Attributes                       Title                                                          Supplemental Video Type  Device Type                      Bookmark  Latest Bookmark  Country           \n",
      "Harper        2021-11-12 18:53:01+00:00  0 days 00:00:04  Autoplayed: user action: None;   Teaser 1: Love Hard                                            TEASER_TRAILER           Chrome PC (Cadmium)              00:00:04  00:00:04         US (United States)   5 days 08:28:42\n",
      "              2022-06-19 13:28:54+00:00  0 days 00:01:52  Autoplayed: user action: None;   Trailer: Sing, Dance, Act: Kabuki featuring Toma Ikuta         TRAILER                  Samsung 2015 NT14M DTV Smart TV  00:01:52  00:01:52         US (United States)   5 days 08:28:42\n",
      "              2022-10-13 18:13:03+00:00  0 days 00:00:04  Autoplayed: user action: None;   Season 1 High Context Clip: Island of the Sea Wolves Season 1  HOOK                     Chrome PC (Cadmium)              00:00:04  00:00:04         US (United States)   5 days 08:28:42\n",
      "dtype: timedelta64[ns]\n",
      "Profile Name  Start Time                 Duration         Attributes                       Title                                                                Supplemental Video Type  Device Type                      Bookmark  Latest Bookmark  Country           \n",
      "Kids          2021-12-26 23:49:15+00:00  0 days 00:00:35  Autoplayed: user action: None;   Miraculous: Tales of Ladybug & Cat Noir: Season 1_hook_primary_16x9  HOOK                     Samsung 2015 NT14M DTV Smart TV  00:00:35  00:00:35         US (United States)   0 days 03:26:34\n",
      "dtype: timedelta64[ns]\n"
     ]
    }
   ],
   "source": [
    "for profile in df['Profile Name'].unique():\n",
    "    print(df.loc[df['Profile Name']==f'{profile}','Duration'].sum()/(df.loc[df['Profile Name']==f'{profile}'].value_counts()))"
   ]
  },
  {
   "cell_type": "code",
   "execution_count": 86,
   "id": "e5952d4e",
   "metadata": {},
   "outputs": [
    {
     "data": {
      "text/plain": [
       "HOOK              537\n",
       "TRAILER           278\n",
       "PROMOTIONAL        78\n",
       "TEASER_TRAILER     45\n",
       "CINEMAGRAPH         9\n",
       "RECAP               5\n",
       "Name: Supplemental Video Type, dtype: int64"
      ]
     },
     "execution_count": 86,
     "metadata": {},
     "output_type": "execute_result"
    }
   ],
   "source": [
    "df['Supplemental Video Type'].value_counts()"
   ]
  },
  {
   "cell_type": "code",
   "execution_count": 87,
   "id": "fbbc0e98",
   "metadata": {},
   "outputs": [],
   "source": [
    "dff = df.loc[df['Supplemental Video Type'].isnull()]"
   ]
  },
  {
   "cell_type": "code",
   "execution_count": 88,
   "id": "f65780c9",
   "metadata": {},
   "outputs": [
    {
     "data": {
      "text/plain": [
       "#whoruntheworld    5093\n",
       "Adam & Nicole      2236\n",
       "Adam Portuguese     482\n",
       "Harper              436\n",
       "Kids                  8\n",
       "Name: Profile Name, dtype: int64"
      ]
     },
     "execution_count": 88,
     "metadata": {},
     "output_type": "execute_result"
    }
   ],
   "source": [
    "dff['Profile Name'].value_counts()"
   ]
  },
  {
   "cell_type": "code",
   "execution_count": 92,
   "id": "2ce370a9",
   "metadata": {},
   "outputs": [
    {
     "name": "stdout",
     "output_type": "stream",
     "text": [
      "Series([], dtype: timedelta64[ns])\n",
      "Series([], dtype: timedelta64[ns])\n",
      "Series([], dtype: timedelta64[ns])\n",
      "Series([], dtype: timedelta64[ns])\n",
      "Series([], dtype: timedelta64[ns])\n"
     ]
    }
   ],
   "source": [
    "for profile in dff['Profile Name'].unique():\n",
    "    print(dff.loc[dff['Profile Name']==f'{profile}','Duration'].sum()/(dff.loc[dff['Profile Name']==f'{profile}'].value_counts()))"
   ]
  },
  {
   "cell_type": "markdown",
   "id": "20e18a85",
   "metadata": {},
   "source": [
    "### What devices are used by which Profile? Which device is used the most?"
   ]
  },
  {
   "cell_type": "code",
   "execution_count": 90,
   "id": "2c919f4a",
   "metadata": {},
   "outputs": [
    {
     "data": {
      "text/plain": [
       "DefaultWidevineAndroidPhone                     3429\n",
       "Google Chromecast V3 Streaming Stick            2801\n",
       "Android DefaultWidevineL3Phone Android Phone    2111\n",
       "Netflix Windows App - Cadmium Windows Mobile     488\n",
       "Samsung 2015 NT14M DTV Smart TV                   98\n",
       "Google Smart Display Nest Hub 2018                88\n",
       "Google Chromecast streaming stick                 72\n",
       "Chrome PC (Cadmium)                               72\n",
       "Firefox PC (Cadmium)                              37\n",
       "Edge OSS - Windows (Cadmium)                      11\n",
       "Name: Device Type, dtype: int64"
      ]
     },
     "execution_count": 90,
     "metadata": {},
     "output_type": "execute_result"
    }
   ],
   "source": [
    "df['Device Type'].value_counts()"
   ]
  },
  {
   "cell_type": "code",
   "execution_count": 91,
   "id": "36594238",
   "metadata": {},
   "outputs": [
    {
     "data": {
      "image/png": "[encoded data removed]",
      "text/plain": [
       "<Figure size 640x480 with 1 Axes>"
      ]
     },
     "metadata": {},
     "output_type": "display_data"
    }
   ],
   "source": [
    "df['Device Type'].value_counts().plot(kind='bar')\n",
    "plt.show()"
   ]
  },
  {
   "cell_type": "markdown",
   "id": "6c62bd57",
   "metadata": {},
   "source": [
    "### What was the most popular/watched title?"
   ]
  },
  {
   "cell_type": "code",
   "execution_count": 123,
   "id": "9d7692a3",
   "metadata": {},
   "outputs": [
    {
     "data": {
      "text/plain": [
       "Charlie's Angels                                                         66\n",
       "Ghostbusters: Answer the Call                                            43\n",
       "The Man from U.N.C.L.E.                                                  38\n",
       "The Spy Who Dumped Me                                                    35\n",
       "6 Underground                                                            32\n",
       "                                                                         ..\n",
       "The Good Place: Season 3: The Book of Dougs (Episode 10)                  1\n",
       "The Good Place: Season 3: Chidi Sees the Time-Knife (Episode 11)          1\n",
       "MINDHUNTER: Season 1: Episode 1                                           1\n",
       "Criminal Minds: Season 1: Plain Sight (Episode 4)                         1\n",
       "The Boss Baby: Back in Business: Season 1: Scooter Buskie (Episode 1)     1\n",
       "Name: Title, Length: 3465, dtype: int64"
      ]
     },
     "execution_count": 123,
     "metadata": {},
     "output_type": "execute_result"
    }
   ],
   "source": [
    "dff.Title.value_counts()"
   ]
  },
  {
   "cell_type": "code",
   "execution_count": 126,
   "id": "c4176d5e",
   "metadata": {},
   "outputs": [
    {
     "data": {
      "image/png": "[encoded data removed]",
      "text/plain": [
       "<Figure size 640x480 with 1 Axes>"
      ]
     },
     "metadata": {},
     "output_type": "display_data"
    }
   ],
   "source": [
    "dff['Title'].value_counts().nlargest(10).plot(kind='bar')\n",
    "plt.show()"
   ]
  },
  {
   "cell_type": "code",
   "execution_count": null,
   "id": "c8da5e7e",
   "metadata": {},
   "outputs": [],
   "source": []
  }
 ],
 "metadata": {
  "kernelspec": {
   "display_name": "Python 3.11.0 64-bit",
   "language": "python",
   "name": "python3"
  },
  "language_info": {
   "codemirror_mode": {
    "name": "ipython",
    "version": 3
   },
   "file_extension": ".py",
   "mimetype": "text/x-python",
   "name": "python",
   "nbconvert_exporter": "python",
   "pygments_lexer": "ipython3",
   "version": "3.11.0"
  },
  "vscode": {
   "interpreter": {
    "hash": "58abfb52252af632704520367ff1cc5a5804b453604cf83dc2bd021ce6c8d2bf"
   }
  }
 },
 "nbformat": 4,
 "nbformat_minor": 5
}
