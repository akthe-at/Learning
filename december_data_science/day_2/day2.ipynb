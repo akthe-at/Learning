{
 "cells": [
  {
   "cell_type": "code",
   "execution_count": 1,
   "id": "21b42bd4",
   "metadata": {},
   "outputs": [],
   "source": [
    "from selenium import webdriver\n",
    "from selenium.webdriver.common.keys import Keys\n",
    "from selenium.webdriver.common.by import By\n",
    "from selenium.webdriver.support.ui import Select\n",
    "from selenium.webdriver.support import expected_conditions as EC\n",
    "from selenium.webdriver.support.ui import WebDriverWait\n",
    "from time import sleep\n",
    "import csv"
   ]
  },
  {
   "cell_type": "code",
   "execution_count": 2,
   "id": "1e963ad3",
   "metadata": {},
   "outputs": [],
   "source": [
    "starbucksUrl = 'https://www.starbucks.de/store-locator?types=starbucks'\n",
    "driver = webdriver.Chrome() \n",
    "driver.get(starbucksUrl);\n",
    "sleep(20)\n",
    "inputFormula = driver.find_element(\"id\", \"address\")\n",
    "inputFormula.send_keys('Berlin, Deutschland')\n",
    "inputFormula.send_keys(Keys.ENTER)\n",
    "sleep(2)\n",
    "resultList = driver.find_elements(By.CLASS_NAME, \"store-list-item\")\n",
    "resultSize = len(resultList)\n",
    "iterations = int(resultSize/2)\n",
    "\n",
    "results=[]\n",
    "\n",
    "for i in range(0,iterations):\n",
    "    #infobtn\n",
    "    infoBtn = resultList[i].find_element(By.CLASS_NAME, \"abstract-button\")\n",
    "    driver.execute_script(\"arguments[0].click();\", infoBtn)\n",
    "    sleep(1)\n",
    "    #get & print adress div\n",
    "    getStoreAddress = driver.find_elements(By.CLASS_NAME, \"store-details-address\") \n",
    "    #print(getStoreAddress[0].get_attribute('innerHTML'))\n",
    "    results.append(getStoreAddress[0].get_attribute('innerHTML'))\n",
    "    #exit\n",
    "    exitDiv = driver.find_elements(By.CLASS_NAME, \"store-finder-store-header\")\n",
    "    exitBtn = exitDiv[0].find_elements(By.CLASS_NAME, \"abstract-button\")\n",
    "    exitBtn[0].get_attribute('innerHTML')\n",
    "    sleep(1)\n",
    "    #searchagain\n",
    "    inputFormula = driver.find_element(\"id\", \"address\")\n",
    "    inputFormula.send_keys('Berlin, Deutschland')\n",
    "    inputFormula.send_keys(Keys.ENTER)\n",
    "    sleep(1)\n",
    "    resultList = driver.find_elements(By.CLASS_NAME, \"store-list-item\")\n",
    "    sleep(1)\n",
    "    \n",
    "driver.close()\n",
    "\n",
    "with open('Restaurants.csv', mode='a', newline='') as outputFile:\n",
    "    restaurantCSV = csv.writer(outputFile, delimiter=',', quotechar='\"', quoting = csv.QUOTE_MINIMAL)\n",
    "    #restaurantCSV.writerow(['restaurant', 'street', 'zip', 'city', 'country'])\n",
    "    restaurantName = 'Starbucks'\n",
    "    country = 'Germany'\n",
    "    for restaurant in results:\n",
    "        street = restaurant.split(\"\\n\")[0]\n",
    "        zipCode = restaurant.split(\"\\n\")[1][0:5]\n",
    "        city = restaurant.split(\"\\n\")[1][6:]\n",
    "        restaurantCSV.writerow([restaurantName, street, zipCode, city, country])"
   ]
  },
  {
   "cell_type": "code",
   "execution_count": 4,
   "id": "c1559281",
   "metadata": {},
   "outputs": [],
   "source": [
    "driver = webdriver.Chrome() \n",
    "driver.get('https://www.mcdonalds.com/de/de-de/restaurant-suche.html/l/berlin');\n",
    "sleep(10) \n",
    "restaurantList = driver.find_elements(By.CLASS_NAME, \"ubsf_sitemap-location-address\")\n",
    "\n",
    "with open('Restaurants.csv', mode='a', newline='') as outputFile:\n",
    "    restaurantCSV = csv.writer(outputFile, delimiter=',', quotechar='\"', quoting = csv.QUOTE_MINIMAL)\n",
    "    restaurantCSV.writerow(['restaurant', 'street', 'zip', 'city', 'country'])\n",
    "    restaurantName = 'McDonalds'\n",
    "    country = 'Germany'\n",
    "    for restaurant in restaurantList:\n",
    "        restaurant = restaurant.get_attribute('innerHTML')\n",
    "        street = restaurant.split(\",\")[0]\n",
    "        zipCode = restaurant.split(\",\")[1][1:6]\n",
    "        city = restaurant.split(\",\")[1][7:]\n",
    "        restaurantCSV.writerow([restaurantName, street, zipCode, city, country])\n",
    "        \n",
    "driver.close()"
   ]
  },
  {
   "cell_type": "code",
   "execution_count": 5,
   "id": "0b6a8824",
   "metadata": {},
   "outputs": [],
   "source": [
    "driver = webdriver.Chrome() \n",
    "driver.get('https://restaurants.subway.com/de/deutschland/be/berlin');\n",
    "sleep(10) \n",
    "restaurantList = driver.find_elements(By.CLASS_NAME, \"Directory-listTeaser\")\n",
    "\n",
    "with open('Restaurants.csv', mode='a', newline='') as outputFile:\n",
    "    restaurantCSV = csv.writer(outputFile, delimiter=',', quotechar='\"', quoting = csv.QUOTE_MINIMAL)\n",
    "    #restaurantCSV.writerow(['restaurant', 'street', 'zip', 'city', 'country'])\n",
    "    restaurantName = 'Subway'\n",
    "    country = 'Germany'\n",
    "    for restaurant in restaurantList:\n",
    "        street = restaurant.find_element(By.CLASS_NAME, 'c-address-street-1').get_attribute('innerHTML')\n",
    "        zipCode = restaurant.find_element(By.CLASS_NAME, 'c-address-postal-code').get_attribute('innerHTML')\n",
    "        city = restaurant.find_element(By.CLASS_NAME, 'c-address-city').get_attribute('innerHTML')\n",
    "        restaurantCSV.writerow([restaurantName, street, zipCode, city, country])\n",
    "\n",
    "driver.close()"
   ]
  }
 ],
 "metadata": {
  "kernelspec": {
   "display_name": "Python 3.11.0 64-bit",
   "language": "python",
   "name": "python3"
  },
  "language_info": {
   "codemirror_mode": {
    "name": "ipython",
    "version": 3
   },
   "file_extension": ".py",
   "mimetype": "text/x-python",
   "name": "python",
   "nbconvert_exporter": "python",
   "pygments_lexer": "ipython3",
   "version": "3.11.0"
  },
  "vscode": {
   "interpreter": {
    "hash": "58abfb52252af632704520367ff1cc5a5804b453604cf83dc2bd021ce6c8d2bf"
   }
  }
 },
 "nbformat": 4,
 "nbformat_minor": 5
}
