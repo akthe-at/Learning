{
 "cells": [
  {
   "cell_type": "code",
   "execution_count": 7,
   "metadata": {},
   "outputs": [],
   "source": [
    "import tweepy\n",
    "import credentials\n",
    "import pandas as pd"
   ]
  },
  {
   "cell_type": "code",
   "execution_count": 2,
   "metadata": {},
   "outputs": [],
   "source": [
    "api_key = credentials.API_KEY\n",
    "api_key_secret = credentials.API_KEY_SECRET\n",
    "bearer_token = credentials.BEARER_TOKEN\n",
    "access_token = credentials.ACCESS_TOKEN\n",
    "access_token_secret = credentials.ACCESS_TOKEN_SECRET"
   ]
  },
  {
   "cell_type": "code",
   "execution_count": 3,
   "metadata": {},
   "outputs": [],
   "source": [
    "auth = tweepy.OAuthHandler(api_key, api_key_secret)\n",
    "auth.set_access_token(access_token, access_token_secret)\n",
    "api = tweepy.API(auth)"
   ]
  },
  {
   "cell_type": "code",
   "execution_count": 5,
   "metadata": {},
   "outputs": [
    {
     "name": "stdout",
     "output_type": "stream",
     "text": [
      "ID: 1599840937298968576\n",
      "2022-12-05 18:59:37+00:00\n",
      "So many interesting posts on Twitter these days!\n",
      "\n",
      "\n"
     ]
    }
   ],
   "source": [
    "userID = 'elonmusk'\n",
    "tweets = api.user_timeline(screen_name=userID, \n",
    "                           count=10, \n",
    "                           include_rts = False,\n",
    "                           exclude_replies = True,\n",
    "                           tweet_mode = 'extended'\n",
    "                           )\n",
    "\n",
    "for tweet in tweets:\n",
    "     print(\"ID: {}\".format(tweet.id))\n",
    "     print(tweet.created_at)\n",
    "     print(tweet.full_text)\n",
    "     print(\"\\n\")"
   ]
  },
  {
   "cell_type": "code",
   "execution_count": 12,
   "metadata": {},
   "outputs": [
    {
     "name": "stdout",
     "output_type": "stream",
     "text": [
      "Tweets downloaded so far: 377\n",
      "Tweets downloaded so far: 567\n",
      "Tweets downloaded so far: 757\n",
      "Tweets downloaded so far: 941\n",
      "Tweets downloaded so far: 1130\n",
      "Tweets downloaded so far: 1300\n",
      "Tweets downloaded so far: 1493\n",
      "Tweets downloaded so far: 1681\n",
      "Tweets downloaded so far: 1848\n",
      "Tweets downloaded so far: 2033\n",
      "Tweets downloaded so far: 2219\n",
      "Tweets downloaded so far: 2407\n",
      "Tweets downloaded so far: 2590\n",
      "Tweets downloaded so far: 2772\n",
      "Tweets downloaded so far: 2952\n",
      "Tweets downloaded so far: 3002\n",
      "Tweets = 0\n"
     ]
    }
   ],
   "source": [
    "teams = ['LFC']\n",
    "for team in teams:\n",
    "    userID = f'{team}'\n",
    "    tweets = api.user_timeline(screen_name=userID, \n",
    "                            count=200, \n",
    "                            include_rts = False,\n",
    "                            exclude_replies = True,\n",
    "                            tweet_mode = 'extended')\n",
    "\n",
    "    tweetCollector = []\n",
    "    tweetCollector.extend(tweets)\n",
    "    latestTweetId = tweets[-1].id\n",
    "\n",
    "    while True:\n",
    "        tweets = api.user_timeline(screen_name=userID, \n",
    "                            count=200, \n",
    "                            include_rts = False,\n",
    "                            exclude_replies = True,\n",
    "                            tweet_mode = 'extended',\n",
    "                            max_id = latestTweetId - 1)\n",
    "        \n",
    "        if len(tweets) == 0:\n",
    "            print('Tweets = 0')\n",
    "            break\n",
    "            \n",
    "        latestTweetId = tweets[-1].id\n",
    "        tweetCollector.extend(tweets)\n",
    "        print('Tweets downloaded so far: {}'.format(len(tweetCollector)))\n",
    "\n",
    "    tweetsHelper = [[f'{team}',\n",
    "                    tweet.id_str, \n",
    "                    tweet.created_at, \n",
    "                    tweet.favorite_count, \n",
    "                    tweet.retweet_count, \n",
    "                    tweet.full_text.encode(\"utf-8\").decode(\"utf-8\").replace('\\n', ' ')] \n",
    "                    for idx,tweet in enumerate(tweetCollector)]\n",
    "                \n",
    "    df = pd.DataFrame(tweetsHelper,columns=[\"club\",\"id\",\"createdAt\",\"favorites\",\"retweets\",\"text\"])\n",
    "    df.to_csv('Tweets_%s.csv' % userID,index=False)"
   ]
  },
  {
   "cell_type": "code",
   "execution_count": 13,
   "metadata": {},
   "outputs": [],
   "source": [
    "dfManU = pd.read_csv('Tweets_ManUtd.csv')\n",
    "dfLiv = pd.read_csv('Tweets_LFC.csv')\n",
    "dfArsenal = pd.read_csv('Tweets_Arsenal.csv')\n",
    "dfChelsea = pd.read_csv('Tweets_ChelseaFC.csv')\n",
    "dfManCity = pd.read_csv('Tweets_ManCity.csv')\n",
    "dfSpurs = pd.read_csv('Tweets_SpursOfficial.csv')\n",
    "\n",
    "df = pd.concat([dfManU, dfLiv, dfArsenal, dfChelsea, dfManCity, dfSpurs])\n",
    "df.to_csv('Tweets_Overall.csv', index=False)"
   ]
  },
  {
   "cell_type": "code",
   "execution_count": 14,
   "metadata": {},
   "outputs": [
    {
     "name": "stdout",
     "output_type": "stream",
     "text": [
      "(17458, 6)\n",
      "LFC                  3002\n",
      "Manchester United    2978\n",
      "ChelseaFC            2940\n",
      "Arsenal              2887\n",
      "SpursOfficial        2830\n",
      "ManCity              2821\n",
      "Name: club, dtype: int64\n"
     ]
    }
   ],
   "source": [
    "print(df.shape)\n",
    "print(df['club'].value_counts())"
   ]
  },
  {
   "cell_type": "code",
   "execution_count": null,
   "metadata": {},
   "outputs": [],
   "source": []
  }
 ],
 "metadata": {
  "kernelspec": {
   "display_name": "Python 3.11.0 64-bit",
   "language": "python",
   "name": "python3"
  },
  "language_info": {
   "codemirror_mode": {
    "name": "ipython",
    "version": 3
   },
   "file_extension": ".py",
   "mimetype": "text/x-python",
   "name": "python",
   "nbconvert_exporter": "python",
   "pygments_lexer": "ipython3",
   "version": "3.11.0"
  },
  "orig_nbformat": 4,
  "vscode": {
   "interpreter": {
    "hash": "58abfb52252af632704520367ff1cc5a5804b453604cf83dc2bd021ce6c8d2bf"
   }
  }
 },
 "nbformat": 4,
 "nbformat_minor": 2
}
