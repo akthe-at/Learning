{
 "cells": [
  {
   "cell_type": "code",
   "execution_count": 10,
   "metadata": {},
   "outputs": [],
   "source": [
    "import folium\n",
    "import pandas as pd\n",
    "import numpy as np"
   ]
  },
  {
   "cell_type": "code",
   "execution_count": 3,
   "metadata": {},
   "outputs": [],
   "source": [
    "m = folium.Map(location=[52.52, 13.40], tiles='OpenStreetMap', zoom_start=11)\n",
    "m.save(\"index.html\")"
   ]
  },
  {
   "cell_type": "code",
   "execution_count": 11,
   "metadata": {},
   "outputs": [],
   "source": [
    "df = pd.read_csv(\"december_data_science\\day_4\\Restaurants_Geo.csv\", encoding=\"utf-8\")\n",
    "df = df.drop(columns='Unnamed: 0')"
   ]
  },
  {
   "cell_type": "code",
   "execution_count": 13,
   "metadata": {},
   "outputs": [],
   "source": [
    "for i, row in df.iterrows():\n",
    "    lat = df.at[i, 'lat']\n",
    "    lng = df.at[i, 'long']\n",
    "\n",
    "    restaurant = df.at[i, 'restaurant']\n",
    "    popupText = (str(df.at[i, 'restaurant']) + '<br>' + str(df.at[i, 'street'])\n",
    "                    + '<br>' +str(df.at[i, 'zip']) + str(df.at[i, 'city']))\n",
    "    \n",
    "    if restaurant=='Subway':\n",
    "        color='lightgreen'\n",
    "    elif restaurant=='Starbucks':\n",
    "        color='darkgreen'\n",
    "    else:\n",
    "        color='orange'\n",
    "    \n",
    "    folium.Marker(location=[lat, lng], popup=popupText, icon=folium.Icon(color=color)).add_to(m)\n",
    "    m.save(\"index.html\")\n"
   ]
  }
 ],
 "metadata": {
  "kernelspec": {
   "display_name": "Python 3.11.0 64-bit",
   "language": "python",
   "name": "python3"
  },
  "language_info": {
   "codemirror_mode": {
    "name": "ipython",
    "version": 3
   },
   "file_extension": ".py",
   "mimetype": "text/x-python",
   "name": "python",
   "nbconvert_exporter": "python",
   "pygments_lexer": "ipython3",
   "version": "3.11.0"
  },
  "orig_nbformat": 4,
  "vscode": {
   "interpreter": {
    "hash": "58abfb52252af632704520367ff1cc5a5804b453604cf83dc2bd021ce6c8d2bf"
   }
  }
 },
 "nbformat": 4,
 "nbformat_minor": 2
}
