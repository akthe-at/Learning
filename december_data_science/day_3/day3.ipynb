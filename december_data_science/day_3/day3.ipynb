{
 "cells": [
  {
   "cell_type": "code",
   "execution_count": 12,
   "metadata": {},
   "outputs": [],
   "source": [
    "import pandas as pd\n",
    "import numpy as np\n",
    "import requests\n",
    "import json"
   ]
  },
  {
   "cell_type": "markdown",
   "metadata": {},
   "source": [
    "## Examine the Data\n"
   ]
  },
  {
   "cell_type": "code",
   "execution_count": 2,
   "metadata": {},
   "outputs": [],
   "source": [
    "df = pd.read_csv('Restaurants1.csv')"
   ]
  },
  {
   "cell_type": "code",
   "execution_count": 3,
   "metadata": {},
   "outputs": [
    {
     "data": {
      "text/plain": [
       "(92, 5)"
      ]
     },
     "execution_count": 3,
     "metadata": {},
     "output_type": "execute_result"
    }
   ],
   "source": [
    "df.shape"
   ]
  },
  {
   "cell_type": "code",
   "execution_count": 5,
   "metadata": {},
   "outputs": [
    {
     "data": {
      "text/html": [
       "<div>\n",
       "<style scoped>\n",
       "    .dataframe tbody tr th:only-of-type {\n",
       "        vertical-align: middle;\n",
       "    }\n",
       "\n",
       "    .dataframe tbody tr th {\n",
       "        vertical-align: top;\n",
       "    }\n",
       "\n",
       "    .dataframe thead th {\n",
       "        text-align: right;\n",
       "    }\n",
       "</style>\n",
       "<table border=\"1\" class=\"dataframe\">\n",
       "  <thead>\n",
       "    <tr style=\"text-align: right;\">\n",
       "      <th></th>\n",
       "      <th>restaurant</th>\n",
       "      <th>street</th>\n",
       "      <th>zip</th>\n",
       "      <th>city</th>\n",
       "      <th>country</th>\n",
       "    </tr>\n",
       "  </thead>\n",
       "  <tbody>\n",
       "    <tr>\n",
       "      <th>43</th>\n",
       "      <td>McDonalds</td>\n",
       "      <td>Greifswalder Stra�e 80</td>\n",
       "      <td>10405</td>\n",
       "      <td>Berlin</td>\n",
       "      <td>Germany</td>\n",
       "    </tr>\n",
       "    <tr>\n",
       "      <th>41</th>\n",
       "      <td>McDonalds</td>\n",
       "      <td>Werner-Vo�-Damm 62</td>\n",
       "      <td>12101</td>\n",
       "      <td>Berlin</td>\n",
       "      <td>Germany</td>\n",
       "    </tr>\n",
       "    <tr>\n",
       "      <th>20</th>\n",
       "      <td>McDonalds</td>\n",
       "      <td>Hansastra�e 1</td>\n",
       "      <td>13053</td>\n",
       "      <td>Berlin</td>\n",
       "      <td>Germany</td>\n",
       "    </tr>\n",
       "    <tr>\n",
       "      <th>17</th>\n",
       "      <td>McDonalds</td>\n",
       "      <td>Alexanderplatz 1</td>\n",
       "      <td>10178</td>\n",
       "      <td>Berlin</td>\n",
       "      <td>Germany</td>\n",
       "    </tr>\n",
       "    <tr>\n",
       "      <th>7</th>\n",
       "      <td>Starbucks</td>\n",
       "      <td>Pariser Platz 4a</td>\n",
       "      <td>10117</td>\n",
       "      <td>Berlin</td>\n",
       "      <td>Germany</td>\n",
       "    </tr>\n",
       "    <tr>\n",
       "      <th>24</th>\n",
       "      <td>McDonalds</td>\n",
       "      <td>Schnellerstra�e 21</td>\n",
       "      <td>12439</td>\n",
       "      <td>Berlin</td>\n",
       "      <td>Germany</td>\n",
       "    </tr>\n",
       "    <tr>\n",
       "      <th>26</th>\n",
       "      <td>McDonalds</td>\n",
       "      <td>Weitlingstra�e 22</td>\n",
       "      <td>10317</td>\n",
       "      <td>Berlin</td>\n",
       "      <td>Germany</td>\n",
       "    </tr>\n",
       "    <tr>\n",
       "      <th>4</th>\n",
       "      <td>Starbucks</td>\n",
       "      <td>Grunerstrasse 20</td>\n",
       "      <td>10719</td>\n",
       "      <td>Berlin</td>\n",
       "      <td>Germany</td>\n",
       "    </tr>\n",
       "    <tr>\n",
       "      <th>54</th>\n",
       "      <td>McDonalds</td>\n",
       "      <td>Heerstra�e 666</td>\n",
       "      <td>13591</td>\n",
       "      <td>Berlin</td>\n",
       "      <td>Germany</td>\n",
       "    </tr>\n",
       "    <tr>\n",
       "      <th>90</th>\n",
       "      <td>Subway</td>\n",
       "      <td>Walther-Schreiber-Platz 1</td>\n",
       "      <td>12161</td>\n",
       "      <td>Berlin</td>\n",
       "      <td>Germany</td>\n",
       "    </tr>\n",
       "  </tbody>\n",
       "</table>\n",
       "</div>"
      ],
      "text/plain": [
       "   restaurant                     street    zip    city  country\n",
       "43  McDonalds     Greifswalder Stra�e 80  10405  Berlin  Germany\n",
       "41  McDonalds         Werner-Vo�-Damm 62  12101  Berlin  Germany\n",
       "20  McDonalds              Hansastra�e 1  13053  Berlin  Germany\n",
       "17  McDonalds           Alexanderplatz 1  10178  Berlin  Germany\n",
       "7   Starbucks           Pariser Platz 4a  10117  Berlin  Germany\n",
       "24  McDonalds         Schnellerstra�e 21  12439  Berlin  Germany\n",
       "26  McDonalds          Weitlingstra�e 22  10317  Berlin  Germany\n",
       "4   Starbucks           Grunerstrasse 20  10719  Berlin  Germany\n",
       "54  McDonalds             Heerstra�e 666  13591  Berlin  Germany\n",
       "90     Subway  Walther-Schreiber-Platz 1  12161  Berlin  Germany"
      ]
     },
     "execution_count": 5,
     "metadata": {},
     "output_type": "execute_result"
    }
   ],
   "source": [
    "df.sample(n=10)"
   ]
  },
  {
   "cell_type": "code",
   "execution_count": 8,
   "metadata": {},
   "outputs": [],
   "source": [
    "header_list = ['restaurant', 'street', 'zip', 'city', 'country', 'lat', 'long']\n",
    "df = df.reindex(columns = header_list)"
   ]
  },
  {
   "cell_type": "code",
   "execution_count": 13,
   "metadata": {},
   "outputs": [],
   "source": [
    "key = 'ZOjyJkQAA3tkwCxaHWdf4Tgv89OEz9r4'\n",
    "for i, row in df.iterrows():\n",
    "    apiAddress = str(df.at[i,'street'])+','+str(df.at[i,'zip'])+','+str(df.at[i,'city'])+','+str(df.at[i,'country'])\n",
    "    parameters = {\n",
    "        \"key\":key,\n",
    "        \"location\": apiAddress\n",
    "    }\n",
    "\n",
    "    response = requests.get(\"http://www.mapquestapi.com/geocoding/v1/address\", params=parameters)\n",
    "    data = response.text\n",
    "    dataJson = json.loads(data)['results']\n",
    "    lat = (dataJson[0]['locations'][0]['latLng']['lat'])\n",
    "    lng = (dataJson[0]['locations'][0]['latLng']['lng'])\n",
    "    \n",
    "    df.at[i,'lat'] = lat\n",
    "    df.at[i,'long'] = lng\n",
    "    \n",
    "df.to_csv('Restaurants_Geo.csv')"
   ]
  },
  {
   "cell_type": "code",
   "execution_count": 25,
   "metadata": {},
   "outputs": [],
   "source": [
    "df2 = pd.read_csv('Restaurants_Geo.csv', index_col=False)\n",
    "df2 = df2.drop(columns='Unnamed: 0')"
   ]
  },
  {
   "cell_type": "code",
   "execution_count": 26,
   "metadata": {},
   "outputs": [
    {
     "data": {
      "text/html": [
       "<div>\n",
       "<style scoped>\n",
       "    .dataframe tbody tr th:only-of-type {\n",
       "        vertical-align: middle;\n",
       "    }\n",
       "\n",
       "    .dataframe tbody tr th {\n",
       "        vertical-align: top;\n",
       "    }\n",
       "\n",
       "    .dataframe thead th {\n",
       "        text-align: right;\n",
       "    }\n",
       "</style>\n",
       "<table border=\"1\" class=\"dataframe\">\n",
       "  <thead>\n",
       "    <tr style=\"text-align: right;\">\n",
       "      <th></th>\n",
       "      <th>restaurant</th>\n",
       "      <th>street</th>\n",
       "      <th>zip</th>\n",
       "      <th>city</th>\n",
       "      <th>country</th>\n",
       "      <th>lat</th>\n",
       "      <th>long</th>\n",
       "    </tr>\n",
       "  </thead>\n",
       "  <tbody>\n",
       "    <tr>\n",
       "      <th>0</th>\n",
       "      <td>Starbucks</td>\n",
       "      <td>Am Bahnhof 40</td>\n",
       "      <td>57072</td>\n",
       "      <td>Siegen</td>\n",
       "      <td>Germany</td>\n",
       "      <td>50.87513</td>\n",
       "      <td>8.01625</td>\n",
       "    </tr>\n",
       "    <tr>\n",
       "      <th>1</th>\n",
       "      <td>Starbucks</td>\n",
       "      <td>Neue Promenade 3</td>\n",
       "      <td>10178</td>\n",
       "      <td>Berlin</td>\n",
       "      <td>Germany</td>\n",
       "      <td>52.52317</td>\n",
       "      <td>13.40230</td>\n",
       "    </tr>\n",
       "    <tr>\n",
       "      <th>2</th>\n",
       "      <td>Starbucks</td>\n",
       "      <td>Dircksenstrasse 2</td>\n",
       "      <td>10179</td>\n",
       "      <td>Berlin</td>\n",
       "      <td>Germany</td>\n",
       "      <td>52.52042</td>\n",
       "      <td>13.41338</td>\n",
       "    </tr>\n",
       "    <tr>\n",
       "      <th>3</th>\n",
       "      <td>Starbucks</td>\n",
       "      <td>Alexanderplatz 2</td>\n",
       "      <td>10178</td>\n",
       "      <td>Berlin</td>\n",
       "      <td>Germany</td>\n",
       "      <td>52.52128</td>\n",
       "      <td>13.41313</td>\n",
       "    </tr>\n",
       "    <tr>\n",
       "      <th>4</th>\n",
       "      <td>Starbucks</td>\n",
       "      <td>Grunerstrasse 20</td>\n",
       "      <td>10719</td>\n",
       "      <td>Berlin</td>\n",
       "      <td>Germany</td>\n",
       "      <td>52.52024</td>\n",
       "      <td>13.41470</td>\n",
       "    </tr>\n",
       "  </tbody>\n",
       "</table>\n",
       "</div>"
      ],
      "text/plain": [
       "  restaurant             street    zip    city  country       lat      long\n",
       "0  Starbucks      Am Bahnhof 40  57072  Siegen  Germany  50.87513   8.01625\n",
       "1  Starbucks   Neue Promenade 3  10178  Berlin  Germany  52.52317  13.40230\n",
       "2  Starbucks  Dircksenstrasse 2  10179  Berlin  Germany  52.52042  13.41338\n",
       "3  Starbucks   Alexanderplatz 2  10178  Berlin  Germany  52.52128  13.41313\n",
       "4  Starbucks   Grunerstrasse 20  10719  Berlin  Germany  52.52024  13.41470"
      ]
     },
     "execution_count": 26,
     "metadata": {},
     "output_type": "execute_result"
    }
   ],
   "source": [
    "df2.head()"
   ]
  },
  {
   "cell_type": "code",
   "execution_count": null,
   "metadata": {},
   "outputs": [],
   "source": []
  }
 ],
 "metadata": {
  "kernelspec": {
   "display_name": "Python 3.11.0 64-bit",
   "language": "python",
   "name": "python3"
  },
  "language_info": {
   "codemirror_mode": {
    "name": "ipython",
    "version": 3
   },
   "file_extension": ".py",
   "mimetype": "text/x-python",
   "name": "python",
   "nbconvert_exporter": "python",
   "pygments_lexer": "ipython3",
   "version": "3.11.0"
  },
  "orig_nbformat": 4,
  "vscode": {
   "interpreter": {
    "hash": "58abfb52252af632704520367ff1cc5a5804b453604cf83dc2bd021ce6c8d2bf"
   }
  }
 },
 "nbformat": 4,
 "nbformat_minor": 2
}
