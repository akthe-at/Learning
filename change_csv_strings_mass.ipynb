{
 "cells": [
  {
   "cell_type": "code",
   "execution_count": 27,
   "metadata": {},
   "outputs": [],
   "source": [
    "import pandas as pd\n",
    "import os\n",
    "import shutil\n",
    "from glob import glob\n",
    "import csv\n",
    "df = pd.read_csv('new_name.csv')"
   ]
  },
  {
   "cell_type": "code",
   "execution_count": 28,
   "metadata": {},
   "outputs": [],
   "source": [
    "namez = dict(zip(df.old_name, df.new_name))\n"
   ]
  },
  {
   "cell_type": "code",
   "execution_count": 16,
   "metadata": {},
   "outputs": [
    {
     "data": {
      "text/plain": [
       "['.gitignore',\n",
       " '.ipynb_checkpoints',\n",
       " 'app.py',\n",
       " 'Assets',\n",
       " 'FB_Team_Wellness.csv',\n",
       " 'Full_FB_Roster.csv',\n",
       " 'HRV_MASTER.csv',\n",
       " 'new_name.csv',\n",
       " 'Pages',\n",
       " 'requirements.txt',\n",
       " 'test.csv',\n",
       " 'Untitled.ipynb',\n",
       " 'UWW FB SSI - Body Weights.csv',\n",
       " 'UWW_FB_GPS.csv',\n",
       " 'UWW_FB_PERFORMANCE_TESTING.csv',\n",
       " 'UWW_FB_WEIGHT_LOAD.csv',\n",
       " 'weight_goal_colors.csv',\n",
       " 'Wellness.csv']"
      ]
     },
     "execution_count": 16,
     "metadata": {},
     "output_type": "execute_result"
    }
   ],
   "source": [
    "os.listdir()"
   ]
  },
  {
   "cell_type": "code",
   "execution_count": 30,
   "metadata": {},
   "outputs": [],
   "source": [
    "files = ['FB_Team_Wellness.csv','Full_FB_Roster.csv','HRV_MASTER.csv','UWW FB SSI - Body Weights.csv','UWW_FB_GPS.csv','UWW_FB_PERFORMANCE_TESTING.csv','UWW_FB_WEIGHT_LOAD.csv','weight_goal_colors.csv','Wellness.csv']\n",
    " "
   ]
  },
  {
   "cell_type": "code",
   "execution_count": 37,
   "metadata": {},
   "outputs": [],
   "source": [
    "for file in files:\n",
    "    dff = pd.read_csv(file, index_col=False)\n",
    "    cols = list(dff.columns)\n",
    "    dff.drop(columns=\"Unnamed: 0\", inplace=True)\n",
    "    if 'name' in cols:\n",
    "        dff['name'].replace(to_replace=namez, inplace=True)\n",
    "        dff.to_csv(file, index=False)\n",
    "    elif 'Name' in cols:\n",
    "        dff['Name'].replace(to_replace=namez, inplace=True)\n",
    "        dff.to_csv(file, index=False)\n",
    "\n",
    "\n"
   ]
  },
  {
   "cell_type": "code",
   "execution_count": null,
   "metadata": {},
   "outputs": [],
   "source": []
  }
 ],
 "metadata": {
  "kernelspec": {
   "display_name": "Python 3.11.0 64-bit",
   "language": "python",
   "name": "python3"
  },
  "language_info": {
   "codemirror_mode": {
    "name": "ipython",
    "version": 3
   },
   "file_extension": ".py",
   "mimetype": "text/x-python",
   "name": "python",
   "nbconvert_exporter": "python",
   "pygments_lexer": "ipython3",
   "version": "3.11.0"
  },
  "orig_nbformat": 4,
  "vscode": {
   "interpreter": {
    "hash": "58abfb52252af632704520367ff1cc5a5804b453604cf83dc2bd021ce6c8d2bf"
   }
  }
 },
 "nbformat": 4,
 "nbformat_minor": 2
}
